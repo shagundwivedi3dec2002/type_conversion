{
  "nbformat": 4,
  "nbformat_minor": 0,
  "metadata": {
    "colab": {
      "provenance": []
    },
    "kernelspec": {
      "name": "python3",
      "display_name": "Python 3"
    },
    "language_info": {
      "name": "python"
    }
  },
  "cells": [
    {
      "cell_type": "markdown",
      "source": [
        "**NumPy and Pandas Assignment**"
      ],
      "metadata": {
        "id": "v2LyD43ljHWf"
      }
    },
    {
      "cell_type": "code",
      "execution_count": 1,
      "metadata": {
        "colab": {
          "base_uri": "https://localhost:8080/"
        },
        "id": "FlJcvPEFjCsw",
        "outputId": "39430bb7-b3a8-486a-edad-999dcd9c2425"
      },
      "outputs": [
        {
          "output_type": "stream",
          "name": "stdout",
          "text": [
            "[0 1 2 3 4 5]\n",
            "int64\n"
          ]
        }
      ],
      "source": [
        "#Ans1\n",
        "import numpy as np\n",
        "\n",
        "arr = np.arange(6)\n",
        "print(arr)\n",
        "print(arr.dtype)"
      ]
    },
    {
      "cell_type": "code",
      "source": [
        "#Ans2\n",
        "arr = np.array([1.5, 2.6, 3.7])\n",
        "if arr.dtype == np.float64:\n",
        "    print(\"Data type is float64\")\n",
        "else:\n",
        "    print(\"Data type is not float64\")"
      ],
      "metadata": {
        "colab": {
          "base_uri": "https://localhost:8080/"
        },
        "id": "IwVSixbijw29",
        "outputId": "cb6e22ec-f1b1-4228-f422-088d4af5cd97"
      },
      "execution_count": 2,
      "outputs": [
        {
          "output_type": "stream",
          "name": "stdout",
          "text": [
            "Data type is float64\n"
          ]
        }
      ]
    },
    {
      "cell_type": "code",
      "source": [
        "#Ans3\n",
        "arr = np.array([1+2j, 3+4j, 5+6j], dtype=np.complex128)\n",
        "print(arr)\n",
        "print(arr.dtype)"
      ],
      "metadata": {
        "colab": {
          "base_uri": "https://localhost:8080/"
        },
        "id": "9riRHBH9kCqB",
        "outputId": "d92cf95d-bd16-4213-a7d2-c9192c13802a"
      },
      "execution_count": 3,
      "outputs": [
        {
          "output_type": "stream",
          "name": "stdout",
          "text": [
            "[1.+2.j 3.+4.j 5.+6.j]\n",
            "complex128\n"
          ]
        }
      ]
    },
    {
      "cell_type": "code",
      "source": [
        "#Ans4\n",
        "arr = np.array([1, 2, 3, 4, 5])\n",
        "arr_float32 = arr.astype(np.float32)\n",
        "print(arr_float32)\n",
        "print(arr_float32.dtype)"
      ],
      "metadata": {
        "colab": {
          "base_uri": "https://localhost:8080/"
        },
        "id": "8sQ1FnuvkJDU",
        "outputId": "4172bf8a-c494-4f6d-f8b8-bc185126ccc9"
      },
      "execution_count": 4,
      "outputs": [
        {
          "output_type": "stream",
          "name": "stdout",
          "text": [
            "[1. 2. 3. 4. 5.]\n",
            "float32\n"
          ]
        }
      ]
    },
    {
      "cell_type": "code",
      "source": [
        "#Ans5\n",
        "arr = np.array([1.123456789, 2.123456789, 3.123456789], dtype=np.float64)\n",
        "arr_float32 = arr.astype(np.float32)\n",
        "print(arr_float32)\n",
        "print(arr_float32.dtype)"
      ],
      "metadata": {
        "colab": {
          "base_uri": "https://localhost:8080/"
        },
        "id": "4v57AtOokNyS",
        "outputId": "3875fa40-5a5f-480b-bef1-7897f2bb2ef6"
      },
      "execution_count": 5,
      "outputs": [
        {
          "output_type": "stream",
          "name": "stdout",
          "text": [
            "[1.1234568 2.1234567 3.1234567]\n",
            "float32\n"
          ]
        }
      ]
    },
    {
      "cell_type": "code",
      "source": [
        "#Ans6\n",
        "def array_attributes(arr):\n",
        "    return arr.shape, arr.size, arr.dtype\n",
        "\n",
        "arr = np.array([1, 2, 3])\n",
        "print(array_attributes(arr))"
      ],
      "metadata": {
        "colab": {
          "base_uri": "https://localhost:8080/"
        },
        "id": "OC0FjNkJkRO-",
        "outputId": "a15bebc9-2288-47a9-ff6e-a08b7e889621"
      },
      "execution_count": 6,
      "outputs": [
        {
          "output_type": "stream",
          "name": "stdout",
          "text": [
            "((3,), 3, dtype('int64'))\n"
          ]
        }
      ]
    },
    {
      "cell_type": "code",
      "source": [
        "#Ans7\n",
        "def array_dimension(arr):\n",
        "    return arr.ndim\n",
        "\n",
        "arr = np.array([[1, 2], [3, 4]])\n",
        "print(array_dimension(arr))"
      ],
      "metadata": {
        "colab": {
          "base_uri": "https://localhost:8080/"
        },
        "id": "kIdEUI9ElTuP",
        "outputId": "df2173b1-c27a-452c-b805-922a579eee96"
      },
      "execution_count": 7,
      "outputs": [
        {
          "output_type": "stream",
          "name": "stdout",
          "text": [
            "2\n"
          ]
        }
      ]
    },
    {
      "cell_type": "code",
      "source": [
        "#Ans8\n",
        "def item_size_info(arr):\n",
        "    return arr.itemsize, arr.nbytes\n",
        "\n",
        "arr = np.array([1, 2, 3, 4, 5])\n",
        "print(item_size_info(arr))"
      ],
      "metadata": {
        "colab": {
          "base_uri": "https://localhost:8080/"
        },
        "id": "ga1kMZ9-lbIR",
        "outputId": "7958c563-a4aa-4660-bb0b-ce426ad3c661"
      },
      "execution_count": 8,
      "outputs": [
        {
          "output_type": "stream",
          "name": "stdout",
          "text": [
            "(8, 40)\n"
          ]
        }
      ]
    },
    {
      "cell_type": "code",
      "source": [
        "#Ans9\n",
        "def array_strides(arr):\n",
        "    return arr.strides\n",
        "\n",
        "arr = np.array([[1, 2], [3, 4]])\n",
        "print(array_strides(arr))"
      ],
      "metadata": {
        "colab": {
          "base_uri": "https://localhost:8080/"
        },
        "id": "lZFdSE2EliyX",
        "outputId": "fb4b2270-baca-434d-969c-3ffc45bb7f5d"
      },
      "execution_count": 9,
      "outputs": [
        {
          "output_type": "stream",
          "name": "stdout",
          "text": [
            "(16, 8)\n"
          ]
        }
      ]
    },
    {
      "cell_type": "code",
      "source": [
        "#Ans10\n",
        "def shape_stride_relationship(arr):\n",
        "    return arr.shape, arr.strides\n",
        "\n",
        "arr = np.array([[1, 2], [3, 4]])\n",
        "print(shape_stride_relationship(arr))"
      ],
      "metadata": {
        "colab": {
          "base_uri": "https://localhost:8080/"
        },
        "id": "ZdHwwJdVlwob",
        "outputId": "5b605728-d34d-44d0-aa5d-344b0c814a9d"
      },
      "execution_count": 10,
      "outputs": [
        {
          "output_type": "stream",
          "name": "stdout",
          "text": [
            "((2, 2), (16, 8))\n"
          ]
        }
      ]
    },
    {
      "cell_type": "code",
      "source": [
        "#Ans11\n",
        "def create_zeros_array(n):\n",
        "    return np.zeros(n)\n",
        "\n",
        "print(create_zeros_array(5))"
      ],
      "metadata": {
        "colab": {
          "base_uri": "https://localhost:8080/"
        },
        "id": "GQGIYLgdmEq4",
        "outputId": "bc153981-3eff-40c4-c1cd-25900cabf060"
      },
      "execution_count": 11,
      "outputs": [
        {
          "output_type": "stream",
          "name": "stdout",
          "text": [
            "[0. 0. 0. 0. 0.]\n"
          ]
        }
      ]
    },
    {
      "cell_type": "code",
      "source": [
        "#Ans12\n",
        "def create_ones_matrix(rows, cols):\n",
        "    return np.ones((rows, cols))\n",
        "\n",
        "print(create_ones_matrix(3, 4))\n"
      ],
      "metadata": {
        "colab": {
          "base_uri": "https://localhost:8080/"
        },
        "id": "L8pwAHromvdT",
        "outputId": "aa768011-c2e2-4b5e-cb5f-2ad4774023cd"
      },
      "execution_count": 12,
      "outputs": [
        {
          "output_type": "stream",
          "name": "stdout",
          "text": [
            "[[1. 1. 1. 1.]\n",
            " [1. 1. 1. 1.]\n",
            " [1. 1. 1. 1.]]\n"
          ]
        }
      ]
    },
    {
      "cell_type": "code",
      "source": [
        "#Ans13\n",
        "def generate_range_array(start, stop, step):\n",
        "    return np.arange(start, stop, step)\n",
        "\n",
        "print(generate_range_array(1, 10, 2))\n"
      ],
      "metadata": {
        "colab": {
          "base_uri": "https://localhost:8080/"
        },
        "id": "X-JXmlFTm5TP",
        "outputId": "fdb65182-21af-40df-d448-0231e233669e"
      },
      "execution_count": 13,
      "outputs": [
        {
          "output_type": "stream",
          "name": "stdout",
          "text": [
            "[1 3 5 7 9]\n"
          ]
        }
      ]
    },
    {
      "cell_type": "code",
      "source": [
        "#Ans14\n",
        "def generate_linear_space(start, stop, num):\n",
        "    return np.linspace(start, stop, num)\n",
        "\n",
        "print(generate_linear_space(1.0, 5.0, 10))\n"
      ],
      "metadata": {
        "colab": {
          "base_uri": "https://localhost:8080/"
        },
        "id": "p0CPSpYVnXO6",
        "outputId": "96c2ca15-bdae-4875-eed6-ec406ae5c146"
      },
      "execution_count": 14,
      "outputs": [
        {
          "output_type": "stream",
          "name": "stdout",
          "text": [
            "[1.         1.44444444 1.88888889 2.33333333 2.77777778 3.22222222\n",
            " 3.66666667 4.11111111 4.55555556 5.        ]\n"
          ]
        }
      ]
    },
    {
      "cell_type": "code",
      "source": [
        "#Ans15\n",
        "def create_identity_matrix(n):\n",
        "    return np.eye(n)\n",
        "\n",
        "print(create_identity_matrix(4))\n"
      ],
      "metadata": {
        "colab": {
          "base_uri": "https://localhost:8080/"
        },
        "id": "VojRhairneND",
        "outputId": "499b7f3e-6596-4988-f246-47e98d683f83"
      },
      "execution_count": 15,
      "outputs": [
        {
          "output_type": "stream",
          "name": "stdout",
          "text": [
            "[[1. 0. 0. 0.]\n",
            " [0. 1. 0. 0.]\n",
            " [0. 0. 1. 0.]\n",
            " [0. 0. 0. 1.]]\n"
          ]
        }
      ]
    },
    {
      "cell_type": "code",
      "source": [
        "#Ans16\n",
        "def list_to_array(py_list):\n",
        "    return np.array(py_list)\n",
        "\n",
        "print(list_to_array([1, 2, 3, 4, 5]))\n"
      ],
      "metadata": {
        "colab": {
          "base_uri": "https://localhost:8080/"
        },
        "id": "uP5CeOZSnnqj",
        "outputId": "de3e4f7a-d098-4122-e898-e7eff0a66e86"
      },
      "execution_count": 16,
      "outputs": [
        {
          "output_type": "stream",
          "name": "stdout",
          "text": [
            "[1 2 3 4 5]\n"
          ]
        }
      ]
    },
    {
      "cell_type": "code",
      "source": [
        "#Ans17\n",
        "arr = np.array([1, 2, 3, 4, 5])\n",
        "arr_view = arr.view()\n",
        "print(arr_view)"
      ],
      "metadata": {
        "colab": {
          "base_uri": "https://localhost:8080/"
        },
        "id": "Q_bOhBhJnxtI",
        "outputId": "3d26eb90-a54a-4e17-c752-550e982b73e9"
      },
      "execution_count": 17,
      "outputs": [
        {
          "output_type": "stream",
          "name": "stdout",
          "text": [
            "[1 2 3 4 5]\n"
          ]
        }
      ]
    },
    {
      "cell_type": "code",
      "source": [
        "#Ans18\n",
        "def concatenate_arrays(arr1, arr2, axis=0):\n",
        "    return np.concatenate((arr1, arr2), axis=axis)\n",
        "\n",
        "arr1 = np.array([[1, 2], [3, 4]])\n",
        "arr2 = np.array([[5, 6], [7, 8]])\n",
        "print(concatenate_arrays(arr1, arr2, axis=0))"
      ],
      "metadata": {
        "colab": {
          "base_uri": "https://localhost:8080/"
        },
        "id": "nhPIX_2Pn-LF",
        "outputId": "673e0da3-3c88-46f8-de5a-b56636902308"
      },
      "execution_count": 19,
      "outputs": [
        {
          "output_type": "stream",
          "name": "stdout",
          "text": [
            "[[1 2]\n",
            " [3 4]\n",
            " [5 6]\n",
            " [7 8]]\n"
          ]
        }
      ]
    },
    {
      "cell_type": "code",
      "source": [
        "#Ans19\n",
        "arr1 = np.array([[1, 2], [3, 4]])\n",
        "arr2 = np.array([[5], [6]])\n",
        "print(np.concatenate((arr1, arr2), axis=1))"
      ],
      "metadata": {
        "colab": {
          "base_uri": "https://localhost:8080/"
        },
        "id": "1Eg6_0m1opbo",
        "outputId": "69f9f49b-1090-468f-d341-92a0aa7554fa"
      },
      "execution_count": 20,
      "outputs": [
        {
          "output_type": "stream",
          "name": "stdout",
          "text": [
            "[[1 2 5]\n",
            " [3 4 6]]\n"
          ]
        }
      ]
    },
    {
      "cell_type": "code",
      "source": [
        "#Ans20\n",
        "def vertical_stack(arr_list):\n",
        "    return np.vstack(arr_list)\n",
        "\n",
        "arr1 = np.array([1, 2, 3])\n",
        "arr2 = np.array([4, 5, 6])\n",
        "arr3 = np.array([7, 8, 9])\n",
        "print(vertical_stack([arr1, arr2, arr3]))"
      ],
      "metadata": {
        "colab": {
          "base_uri": "https://localhost:8080/"
        },
        "id": "KrSJgtSuo69B",
        "outputId": "4dbfbc6e-b76d-42a2-81d8-796591ac6b07"
      },
      "execution_count": 21,
      "outputs": [
        {
          "output_type": "stream",
          "name": "stdout",
          "text": [
            "[[1 2 3]\n",
            " [4 5 6]\n",
            " [7 8 9]]\n"
          ]
        }
      ]
    },
    {
      "cell_type": "code",
      "source": [
        "#Ans21\n",
        "def create_array_in_range(start, stop, step):\n",
        "    return np.arange(start, stop+1, step)\n",
        "\n",
        "print(create_array_in_range(1, 10, 2))"
      ],
      "metadata": {
        "colab": {
          "base_uri": "https://localhost:8080/"
        },
        "id": "FOXQUnONpD9_",
        "outputId": "eb3ff2b3-5580-4b3b-fd55-2e71696fbc2a"
      },
      "execution_count": 22,
      "outputs": [
        {
          "output_type": "stream",
          "name": "stdout",
          "text": [
            "[1 3 5 7 9]\n"
          ]
        }
      ]
    },
    {
      "cell_type": "code",
      "source": [
        "#Ans22\n",
        "def equally_spaced_values():\n",
        "    return np.linspace(0, 1, 10)\n",
        "\n",
        "print(equally_spaced_values())"
      ],
      "metadata": {
        "colab": {
          "base_uri": "https://localhost:8080/"
        },
        "id": "YRrPUSPtpMc4",
        "outputId": "0f0813ae-5247-4071-dde0-459b4e723f68"
      },
      "execution_count": 23,
      "outputs": [
        {
          "output_type": "stream",
          "name": "stdout",
          "text": [
            "[0.         0.11111111 0.22222222 0.33333333 0.44444444 0.55555556\n",
            " 0.66666667 0.77777778 0.88888889 1.        ]\n"
          ]
        }
      ]
    },
    {
      "cell_type": "code",
      "source": [
        "#Ans23\n",
        "def log_spaced_values():\n",
        "    return np.logspace(0, 3, 5)\n",
        "\n",
        "print(log_spaced_values())"
      ],
      "metadata": {
        "colab": {
          "base_uri": "https://localhost:8080/"
        },
        "id": "y7ez-CgMpcqQ",
        "outputId": "cb639d01-d94e-435a-f9d6-4edebc75d299"
      },
      "execution_count": 24,
      "outputs": [
        {
          "output_type": "stream",
          "name": "stdout",
          "text": [
            "[   1.            5.62341325   31.6227766   177.827941   1000.        ]\n"
          ]
        }
      ]
    },
    {
      "cell_type": "code",
      "source": [
        "#Ans24\n",
        "import pandas as pd\n",
        "\n",
        "def create_dataframe():\n",
        "    data = np.random.randint(1, 101, size=(5, 3))\n",
        "    return pd.DataFrame(data, columns=['A', 'B', 'C'])\n",
        "\n",
        "df = create_dataframe()\n",
        "print(df)"
      ],
      "metadata": {
        "colab": {
          "base_uri": "https://localhost:8080/"
        },
        "id": "JdnYY293pl3P",
        "outputId": "5ceb1586-d776-4ae1-ad67-80fd47daff80"
      },
      "execution_count": 25,
      "outputs": [
        {
          "output_type": "stream",
          "name": "stdout",
          "text": [
            "    A   B   C\n",
            "0  49  18  46\n",
            "1  55  61  78\n",
            "2   8  27  63\n",
            "3  60  12   1\n",
            "4  71  66  33\n"
          ]
        }
      ]
    },
    {
      "cell_type": "code",
      "source": [
        "#Ans25\n",
        "def replace_negatives_with_zero(df, column_name):\n",
        "    df[column_name] = np.where(df[column_name] < 0, 0, df[column_name])\n",
        "    return df\n",
        "\n",
        "df = pd.DataFrame({'A': [1, -2, 3], 'B': [-1, 5, -3]})\n",
        "print(replace_negatives_with_zero(df, 'A'))"
      ],
      "metadata": {
        "colab": {
          "base_uri": "https://localhost:8080/"
        },
        "id": "nr-bshS_pwaJ",
        "outputId": "62f8e951-ea50-4aef-ccc4-cd1407dfa2e0"
      },
      "execution_count": 27,
      "outputs": [
        {
          "output_type": "stream",
          "name": "stdout",
          "text": [
            "   A  B\n",
            "0  1 -1\n",
            "1  0  5\n",
            "2  3 -3\n"
          ]
        }
      ]
    },
    {
      "cell_type": "code",
      "source": [
        "#Ans26\n",
        "arr = np.array([10, 20, 30, 40, 50])\n",
        "print(arr[2])"
      ],
      "metadata": {
        "colab": {
          "base_uri": "https://localhost:8080/"
        },
        "id": "ltBKbmdAp_Rf",
        "outputId": "33707065-0e44-4111-d3b9-5f6ee7e2d0e7"
      },
      "execution_count": 28,
      "outputs": [
        {
          "output_type": "stream",
          "name": "stdout",
          "text": [
            "30\n"
          ]
        }
      ]
    },
    {
      "cell_type": "code",
      "source": [
        "#Ans27\n",
        "arr_2d = np.array([[1, 2, 3], [4, 5, 6], [7, 8, 9]])\n",
        "print(arr_2d[1, 2])"
      ],
      "metadata": {
        "colab": {
          "base_uri": "https://localhost:8080/"
        },
        "id": "vIBKzXR3qYVq",
        "outputId": "f65f3e5a-9013-4246-fa4c-7460c5524481"
      },
      "execution_count": 29,
      "outputs": [
        {
          "output_type": "stream",
          "name": "stdout",
          "text": [
            "6\n"
          ]
        }
      ]
    },
    {
      "cell_type": "code",
      "source": [
        "#Ans28\n",
        "arr = np.array([3, 8, 2, 10, 5, 7])\n",
        "print(arr[arr > 5])"
      ],
      "metadata": {
        "colab": {
          "base_uri": "https://localhost:8080/"
        },
        "id": "k5pTJ0NJqc7l",
        "outputId": "d3b45a90-39d2-4983-8ad1-324b2dc043b0"
      },
      "execution_count": 30,
      "outputs": [
        {
          "output_type": "stream",
          "name": "stdout",
          "text": [
            "[ 8 10  7]\n"
          ]
        }
      ]
    },
    {
      "cell_type": "code",
      "source": [
        "#Ans29\n",
        "arr = np.array([1, 2, 3, 4, 5, 6, 7, 8, 9])\n",
        "print(arr[2:6])"
      ],
      "metadata": {
        "colab": {
          "base_uri": "https://localhost:8080/"
        },
        "id": "Lcl5P1p0quGN",
        "outputId": "e9531805-318a-40b9-a92e-7ee635d41db6"
      },
      "execution_count": 31,
      "outputs": [
        {
          "output_type": "stream",
          "name": "stdout",
          "text": [
            "[3 4 5 6]\n"
          ]
        }
      ]
    },
    {
      "cell_type": "code",
      "source": [
        "#Ans30\n",
        "arr_2d = np.array([[1, 2, 3], [4, 5, 6], [7, 8, 9]])\n",
        "print(arr_2d[0:2, 1:3])"
      ],
      "metadata": {
        "colab": {
          "base_uri": "https://localhost:8080/"
        },
        "id": "VDq0E-nUq3A3",
        "outputId": "cc68c204-ef04-45a0-f457-f172750fb84e"
      },
      "execution_count": 33,
      "outputs": [
        {
          "output_type": "stream",
          "name": "stdout",
          "text": [
            "[[2 3]\n",
            " [5 6]]\n"
          ]
        }
      ]
    },
    {
      "cell_type": "code",
      "source": [
        "#Ans31\n",
        "def extract_elements(arr, indices):\n",
        "    return arr[indices]\n",
        "\n",
        "arr = np.array([[1, 2, 3], [4, 5, 6], [7, 8, 9]])\n",
        "indices = np.array([0, 2])\n",
        "print(extract_elements(arr, indices))"
      ],
      "metadata": {
        "colab": {
          "base_uri": "https://localhost:8080/"
        },
        "id": "RTBR9i9Tq83p",
        "outputId": "c93c5033-3301-4a56-e3c5-710f72ed8601"
      },
      "execution_count": 34,
      "outputs": [
        {
          "output_type": "stream",
          "name": "stdout",
          "text": [
            "[[1 2 3]\n",
            " [7 8 9]]\n"
          ]
        }
      ]
    },
    {
      "cell_type": "code",
      "source": [
        "#Ans32\n",
        "def filter_greater_than(arr, threshold):\n",
        "    return arr[arr > threshold]\n",
        "\n",
        "arr = np.array([1, 5, 10, 15, 20])\n",
        "print(filter_greater_than(arr, 10))"
      ],
      "metadata": {
        "colab": {
          "base_uri": "https://localhost:8080/"
        },
        "id": "Nd80vexqr3yj",
        "outputId": "58e78fa8-ebf1-4020-9e07-a0020aaab362"
      },
      "execution_count": 35,
      "outputs": [
        {
          "output_type": "stream",
          "name": "stdout",
          "text": [
            "[15 20]\n"
          ]
        }
      ]
    },
    {
      "cell_type": "code",
      "source": [
        "#Ans33\n",
        "def extract_from_3d_array(arr, idx1, idx2, idx3):\n",
        "    return arr[idx1, idx2, idx3]\n",
        "\n",
        "arr = np.random.randint(0, 10, (4, 4, 4))\n",
        "idx1 = np.array([0, 1, 2])\n",
        "idx2 = np.array([1, 2, 3])\n",
        "idx3 = np.array([2, 3, 1])\n",
        "print(extract_from_3d_array(arr, idx1, idx2, idx3))"
      ],
      "metadata": {
        "colab": {
          "base_uri": "https://localhost:8080/"
        },
        "id": "bEpF4XotsCOf",
        "outputId": "409d1059-a05b-4367-a391-0528d8cca8fd"
      },
      "execution_count": 36,
      "outputs": [
        {
          "output_type": "stream",
          "name": "stdout",
          "text": [
            "[7 8 7]\n"
          ]
        }
      ]
    },
    {
      "cell_type": "code",
      "source": [
        "#Ans34\n",
        "def filter_with_conditions(arr):\n",
        "    return arr[(arr > 10) & (arr < 20)]\n",
        "\n",
        "arr = np.array([5, 12, 18, 25])\n",
        "print(filter_with_conditions(arr))"
      ],
      "metadata": {
        "colab": {
          "base_uri": "https://localhost:8080/"
        },
        "id": "SHin77L9sNrk",
        "outputId": "da1a767d-8200-4988-98d5-30d41e504ae5"
      },
      "execution_count": 37,
      "outputs": [
        {
          "output_type": "stream",
          "name": "stdout",
          "text": [
            "[12 18]\n"
          ]
        }
      ]
    },
    {
      "cell_type": "code",
      "source": [
        "#Ans35\n",
        "def extract_using_indices(arr, row_indices, col_indices):\n",
        "    return arr[row_indices, col_indices]\n",
        "\n",
        "arr = np.array([[1, 2, 3], [4, 5, 6], [7, 8, 9]])\n",
        "row_indices = np.array([0, 1, 2])\n",
        "col_indices = np.array([2, 1, 0])\n",
        "print(extract_using_indices(arr, row_indices, col_indices))"
      ],
      "metadata": {
        "colab": {
          "base_uri": "https://localhost:8080/"
        },
        "id": "ZSGP_bDcspct",
        "outputId": "3dbf2fd6-e945-47f8-af3a-b060aa21a45c"
      },
      "execution_count": 38,
      "outputs": [
        {
          "output_type": "stream",
          "name": "stdout",
          "text": [
            "[3 5 7]\n"
          ]
        }
      ]
    },
    {
      "cell_type": "code",
      "source": [
        "#Ans36\n",
        "arr = np.array([[1, 2, 3], [4, 5, 6], [7, 8, 9]])\n",
        "print(arr + 5)"
      ],
      "metadata": {
        "colab": {
          "base_uri": "https://localhost:8080/"
        },
        "id": "H3nnszcLtAGX",
        "outputId": "92bdead4-f966-4b8a-ff72-9bab331e9fa2"
      },
      "execution_count": 39,
      "outputs": [
        {
          "output_type": "stream",
          "name": "stdout",
          "text": [
            "[[ 6  7  8]\n",
            " [ 9 10 11]\n",
            " [12 13 14]]\n"
          ]
        }
      ]
    },
    {
      "cell_type": "code",
      "source": [
        "#Ans37\n",
        "arr1 = np.array([[1, 2, 3]])\n",
        "arr2 = np.array([[1, 2, 3, 4], [5, 6, 7, 8], [9, 10, 11, 12]])\n",
        "print(arr2 * arr1.T)"
      ],
      "metadata": {
        "colab": {
          "base_uri": "https://localhost:8080/"
        },
        "id": "roObWhpwtQFB",
        "outputId": "1b443ecf-39f7-48c7-f33c-15cecef970db"
      },
      "execution_count": 42,
      "outputs": [
        {
          "output_type": "stream",
          "name": "stdout",
          "text": [
            "[[ 1  2  3  4]\n",
            " [10 12 14 16]\n",
            " [27 30 33 36]]\n"
          ]
        }
      ]
    },
    {
      "cell_type": "code",
      "source": [
        "#Ans38\n",
        "arr1 = np.array([1, 2, 3, 4])\n",
        "arr2 = np.array([[1, 2, 3], [4, 5, 6], [7, 8, 9], [10, 11, 12]])\n",
        "print(arr2 + arr1[:, np.newaxis])"
      ],
      "metadata": {
        "colab": {
          "base_uri": "https://localhost:8080/"
        },
        "id": "DlHFrTbOtXc5",
        "outputId": "b178b9fb-0863-431b-c3e8-5127241097e0"
      },
      "execution_count": 43,
      "outputs": [
        {
          "output_type": "stream",
          "name": "stdout",
          "text": [
            "[[ 2  3  4]\n",
            " [ 6  7  8]\n",
            " [10 11 12]\n",
            " [14 15 16]]\n"
          ]
        }
      ]
    },
    {
      "cell_type": "code",
      "source": [
        "#Ans39\n",
        "arr1 = np.array([[1], [2], [3]])\n",
        "arr2 = np.array([[1, 2, 3]])\n",
        "print(arr1 + arr2)"
      ],
      "metadata": {
        "colab": {
          "base_uri": "https://localhost:8080/"
        },
        "id": "wopkMhUHtmcU",
        "outputId": "19b27d6a-a4ac-4f2d-d078-d79a43cfcfcb"
      },
      "execution_count": 44,
      "outputs": [
        {
          "output_type": "stream",
          "name": "stdout",
          "text": [
            "[[2 3 4]\n",
            " [3 4 5]\n",
            " [4 5 6]]\n"
          ]
        }
      ]
    },
    {
      "cell_type": "code",
      "source": [
        "#Ans40\n",
        "arr1 = np.array([[1, 2, 3], [4, 5, 6]])\n",
        "arr2 = np.array([[1, 2], [3, 4]])\n",
        "\n",
        "# Broadcasting won't work due to shape incompatibility. One way to solve it is reshaping:\n",
        "arr2_reshaped = np.repeat(arr2, 2, axis=1)[:, :-1] # Repeat elements along axis 1 and remove the last column\n",
        "print(arr1 * arr2_reshaped)"
      ],
      "metadata": {
        "colab": {
          "base_uri": "https://localhost:8080/"
        },
        "id": "sIBU3walt6mF",
        "outputId": "3d744342-8a03-43fc-df21-e712785b70d4"
      },
      "execution_count": 46,
      "outputs": [
        {
          "output_type": "stream",
          "name": "stdout",
          "text": [
            "[[ 1  2  6]\n",
            " [12 15 24]]\n"
          ]
        }
      ]
    },
    {
      "cell_type": "code",
      "source": [
        "#Ans41\n",
        "arr = np.array([[1, 2, 3], [4, 5, 6]])\n",
        "print(np.mean(arr, axis=0))"
      ],
      "metadata": {
        "colab": {
          "base_uri": "https://localhost:8080/"
        },
        "id": "oy8lY2nkuIUq",
        "outputId": "c031c483-6cf1-4730-eec2-07c0e920e66c"
      },
      "execution_count": 47,
      "outputs": [
        {
          "output_type": "stream",
          "name": "stdout",
          "text": [
            "[2.5 3.5 4.5]\n"
          ]
        }
      ]
    },
    {
      "cell_type": "code",
      "source": [
        "#Ans42\n",
        "arr = np.array([[1, 2, 3], [4, 5, 6]])\n",
        "print(np.max(arr, axis=1))"
      ],
      "metadata": {
        "colab": {
          "base_uri": "https://localhost:8080/"
        },
        "id": "RhIK6qkSubex",
        "outputId": "eeee78e0-c88c-4de6-daa0-56bf2e2124e5"
      },
      "execution_count": 48,
      "outputs": [
        {
          "output_type": "stream",
          "name": "stdout",
          "text": [
            "[3 6]\n"
          ]
        }
      ]
    },
    {
      "cell_type": "code",
      "source": [
        "#Ans43\n",
        "arr = np.array([[1, 2, 3], [4, 5, 6]])\n",
        "print(np.argmax(arr, axis=0))\n"
      ],
      "metadata": {
        "colab": {
          "base_uri": "https://localhost:8080/"
        },
        "id": "0OXhNZSKue4_",
        "outputId": "edf1adb6-e915-4123-86a8-113fc9838406"
      },
      "execution_count": 50,
      "outputs": [
        {
          "output_type": "stream",
          "name": "stdout",
          "text": [
            "[1 1 1]\n"
          ]
        }
      ]
    },
    {
      "cell_type": "code",
      "source": [
        "#Ans44\n",
        "def moving_sum(arr):\n",
        "    return np.cumsum(arr, axis=1)\n",
        "\n",
        "arr = np.array([[1, 2, 3], [4, 5, 6]])\n",
        "print(moving_sum(arr))"
      ],
      "metadata": {
        "colab": {
          "base_uri": "https://localhost:8080/"
        },
        "id": "YHChtlP5uiyL",
        "outputId": "17b6bd32-5551-4145-ad6f-21ac1d24df94"
      },
      "execution_count": 51,
      "outputs": [
        {
          "output_type": "stream",
          "name": "stdout",
          "text": [
            "[[ 1  3  6]\n",
            " [ 4  9 15]]\n"
          ]
        }
      ]
    },
    {
      "cell_type": "code",
      "source": [
        "#Ans45\n",
        "arr = np.array([[2, 4, 6], [3, 5, 7]])\n",
        "print(np.all(arr % 2 == 0, axis=0))"
      ],
      "metadata": {
        "colab": {
          "base_uri": "https://localhost:8080/"
        },
        "id": "McECCiL7u2Pq",
        "outputId": "2474da61-bb9c-4a84-ec8c-a2bfd5b23867"
      },
      "execution_count": 52,
      "outputs": [
        {
          "output_type": "stream",
          "name": "stdout",
          "text": [
            "[False False False]\n"
          ]
        }
      ]
    },
    {
      "cell_type": "code",
      "source": [
        "#Ans46\n",
        "original_array = np.array([1, 2, 3, 4, 5, 6])\n",
        "reshaped_matrix = original_array.reshape(2, 3)\n",
        "print(reshaped_matrix)"
      ],
      "metadata": {
        "colab": {
          "base_uri": "https://localhost:8080/"
        },
        "id": "svTbKWIJvBUk",
        "outputId": "533c9f11-4540-4b51-9b06-9cdc4b3c6035"
      },
      "execution_count": 53,
      "outputs": [
        {
          "output_type": "stream",
          "name": "stdout",
          "text": [
            "[[1 2 3]\n",
            " [4 5 6]]\n"
          ]
        }
      ]
    },
    {
      "cell_type": "code",
      "source": [
        "#Ans47\n",
        "def flatten_matrix(matrix):\n",
        "    return matrix.flatten()\n",
        "\n",
        "input_matrix = np.array([[1, 2, 3], [4, 5, 6]])\n",
        "flattened_array = flatten_matrix(input_matrix)\n",
        "print(flattened_array)"
      ],
      "metadata": {
        "colab": {
          "base_uri": "https://localhost:8080/"
        },
        "id": "ufLJdJR00fvF",
        "outputId": "d8ebdb71-ab3b-4918-b2a3-4389d15e6fd7"
      },
      "execution_count": 55,
      "outputs": [
        {
          "output_type": "stream",
          "name": "stdout",
          "text": [
            "[1 2 3 4 5 6]\n"
          ]
        }
      ]
    },
    {
      "cell_type": "code",
      "source": [
        "#Ans48\n",
        "array1 = np.array([[1, 2], [3, 4]])\n",
        "array2 = np.array([[5, 6], [7, 8]])\n",
        "\n",
        "# Concatenating along axis 0 (rows)\n",
        "concatenated_array = np.concatenate((array1, array2), axis=0)\n",
        "print(concatenated_array)\n",
        "\n",
        "print(\" \") #for space between result\n",
        "\n",
        "# Concatenating along axis 1 (columns)\n",
        "concatenated_array_axis1 = np.concatenate((array1, array2), axis=1)\n",
        "print(concatenated_array_axis1)"
      ],
      "metadata": {
        "colab": {
          "base_uri": "https://localhost:8080/"
        },
        "id": "iVfCiuoF0tru",
        "outputId": "39701b9d-d9fd-48da-818a-0d58c8351ee5"
      },
      "execution_count": 58,
      "outputs": [
        {
          "output_type": "stream",
          "name": "stdout",
          "text": [
            "[[1 2]\n",
            " [3 4]\n",
            " [5 6]\n",
            " [7 8]]\n",
            " \n",
            "[[1 2 5 6]\n",
            " [3 4 7 8]]\n"
          ]
        }
      ]
    },
    {
      "cell_type": "code",
      "source": [
        "#Ans49\n",
        "def split_array(arr, num_splits):\n",
        "    return np.array_split(arr, num_splits, axis=0)\n",
        "\n",
        "original_array = np.array([[1, 2, 3], [4, 5, 6], [7, 8, 9]])\n",
        "sub_arrays = split_array(original_array, 3)\n",
        "print(sub_arrays)\n"
      ],
      "metadata": {
        "colab": {
          "base_uri": "https://localhost:8080/"
        },
        "id": "TwJ_u1Gg2Zty",
        "outputId": "2e2e151d-28af-4b85-e218-359ffe9a3fff"
      },
      "execution_count": 59,
      "outputs": [
        {
          "output_type": "stream",
          "name": "stdout",
          "text": [
            "[array([[1, 2, 3]]), array([[4, 5, 6]]), array([[7, 8, 9]])]\n"
          ]
        }
      ]
    },
    {
      "cell_type": "code",
      "source": [
        "#Ans50\n",
        "def insert_and_delete_elements(arr, indices_to_insert, values_to_insert, indices_to_delete):\n",
        "    modified_array = np.insert(arr, indices_to_insert, values_to_insert)\n",
        "    modified_array = np.delete(modified_array, indices_to_delete)\n",
        "    return modified_array\n",
        "\n",
        "original_array = np.array([1, 2, 3, 4, 5])\n",
        "indices_to_insert = [2, 4]\n",
        "values_to_insert = [10, 11]\n",
        "indices_to_delete = [1, 3]\n",
        "result = insert_and_delete_elements(original_array, indices_to_insert, values_to_insert, indices_to_delete)\n",
        "print(result)\n"
      ],
      "metadata": {
        "colab": {
          "base_uri": "https://localhost:8080/"
        },
        "id": "Aau4deiH2z1M",
        "outputId": "1fd2d849-d8a3-42fd-c863-a0162c7598fb"
      },
      "execution_count": 61,
      "outputs": [
        {
          "output_type": "stream",
          "name": "stdout",
          "text": [
            "[ 1 10  4 11  5]\n"
          ]
        }
      ]
    },
    {
      "cell_type": "code",
      "source": [
        "#Ans51\n",
        "arr1 = np.random.randint(1, 11, 10)\n",
        "arr2 = np.arange(1, 11)\n",
        "\n",
        "addition_result = np.add(arr1, arr2)\n",
        "print(addition_result)\n"
      ],
      "metadata": {
        "colab": {
          "base_uri": "https://localhost:8080/"
        },
        "id": "7JMtiVot3Bti",
        "outputId": "9b213d75-b4e0-427a-9248-2fb96955dc51"
      },
      "execution_count": 62,
      "outputs": [
        {
          "output_type": "stream",
          "name": "stdout",
          "text": [
            "[ 2  9  9 10  9 11  9 12 16 19]\n"
          ]
        }
      ]
    },
    {
      "cell_type": "code",
      "source": [
        "#Ans52\n",
        "arr1 = np.arange(10, 0, -1)\n",
        "arr2 = np.arange(1, 11)\n",
        "\n",
        "subtraction_result = np.subtract(arr1, arr2)\n",
        "print(subtraction_result)\n"
      ],
      "metadata": {
        "colab": {
          "base_uri": "https://localhost:8080/"
        },
        "id": "eMu-kfuY3ugt",
        "outputId": "88874148-4d3a-49ef-c625-0d96b1a68034"
      },
      "execution_count": 63,
      "outputs": [
        {
          "output_type": "stream",
          "name": "stdout",
          "text": [
            "[ 9  7  5  3  1 -1 -3 -5 -7 -9]\n"
          ]
        }
      ]
    },
    {
      "cell_type": "code",
      "source": [
        "#Ans53\n",
        "arr1 = np.random.randint(1, 11, 5)\n",
        "arr2 = np.arange(1, 6)\n",
        "\n",
        "multiplication_result = np.multiply(arr1, arr2)\n",
        "print(multiplication_result)\n"
      ],
      "metadata": {
        "colab": {
          "base_uri": "https://localhost:8080/"
        },
        "id": "-t4Uz3vf4A5k",
        "outputId": "d9b4d608-1fb1-47cc-aacb-846490be0e9a"
      },
      "execution_count": 64,
      "outputs": [
        {
          "output_type": "stream",
          "name": "stdout",
          "text": [
            "[ 9  8  3 32 20]\n"
          ]
        }
      ]
    },
    {
      "cell_type": "code",
      "source": [
        "#Ans54\n",
        "arr1 = np.arange(2, 11, 2)\n",
        "arr2 = np.arange(1, 6)\n",
        "\n",
        "division_result = np.divide(arr1, arr2)\n",
        "print(division_result)\n"
      ],
      "metadata": {
        "colab": {
          "base_uri": "https://localhost:8080/"
        },
        "id": "NBx41jrL4HAS",
        "outputId": "accf8928-a0da-4149-b11a-d56ce040d9de"
      },
      "execution_count": 65,
      "outputs": [
        {
          "output_type": "stream",
          "name": "stdout",
          "text": [
            "[2. 2. 2. 2. 2.]\n"
          ]
        }
      ]
    },
    {
      "cell_type": "code",
      "source": [
        "#Ans55\n",
        "arr1 = np.arange(1, 6)\n",
        "arr2 = np.flip(arr1)\n",
        "\n",
        "exponentiation_result = np.power(arr1, arr2)\n",
        "print(exponentiation_result)\n"
      ],
      "metadata": {
        "colab": {
          "base_uri": "https://localhost:8080/"
        },
        "id": "jQ2Qvkpy4lbC",
        "outputId": "8f87c373-554d-4aff-de3c-3de0c2b79747"
      },
      "execution_count": 68,
      "outputs": [
        {
          "output_type": "stream",
          "name": "stdout",
          "text": [
            "[ 1 16 27 16  5]\n"
          ]
        }
      ]
    },
    {
      "cell_type": "code",
      "source": [
        "#Ans56\n",
        "def count_substring(arr, substring):\n",
        "    return np.char.count(arr, substring)\n",
        "\n",
        "arr = np.array(['hello', 'world', 'hello', 'numpy', 'hello'])\n",
        "substring_count = count_substring(arr, 'hello')\n",
        "print(substring_count)\n"
      ],
      "metadata": {
        "colab": {
          "base_uri": "https://localhost:8080/"
        },
        "id": "5PvHj6IO4zju",
        "outputId": "d5473388-edc6-495d-be17-ba45df252b3c"
      },
      "execution_count": 69,
      "outputs": [
        {
          "output_type": "stream",
          "name": "stdout",
          "text": [
            "[1 0 1 0 1]\n"
          ]
        }
      ]
    },
    {
      "cell_type": "code",
      "source": [
        "#Ans57\n",
        "def extract_uppercase(arr):\n",
        "    return [\"\".join([char for char in string if char.isupper()]) for string in arr]\n",
        "\n",
        "arr = np.array(['Hello', 'World', 'OpenAI', 'GPT'])\n",
        "uppercase_chars = extract_uppercase(arr)\n",
        "print(uppercase_chars)\n"
      ],
      "metadata": {
        "colab": {
          "base_uri": "https://localhost:8080/"
        },
        "id": "WTo8qPA_48ES",
        "outputId": "0c7ca087-e3e3-4958-8420-dd5db10772b9"
      },
      "execution_count": 70,
      "outputs": [
        {
          "output_type": "stream",
          "name": "stdout",
          "text": [
            "['H', 'W', 'OAI', 'GPT']\n"
          ]
        }
      ]
    },
    {
      "cell_type": "code",
      "source": [
        "#Ans58\n",
        "def replace_substring(arr, old_substring, new_substring):\n",
        "    return np.char.replace(arr, old_substring, new_substring)\n",
        "\n",
        "arr = np.array(['apple', 'banana', 'grape', 'pineapple'])\n",
        "replaced_array = replace_substring(arr, 'apple', 'fruit')\n",
        "print(replaced_array)\n"
      ],
      "metadata": {
        "colab": {
          "base_uri": "https://localhost:8080/"
        },
        "id": "73PE2KTO5TX2",
        "outputId": "91ef5ac5-e0e9-40b1-e5ce-2142e8d08da0"
      },
      "execution_count": 71,
      "outputs": [
        {
          "output_type": "stream",
          "name": "stdout",
          "text": [
            "['fruit' 'banana' 'grape' 'pinefruit']\n"
          ]
        }
      ]
    },
    {
      "cell_type": "code",
      "source": [
        "#Ans59\n",
        "def concatenate_strings(arr1, arr2):\n",
        "    return np.char.add(arr1, arr2)\n",
        "\n",
        "arr1 = np.array(['Hello', 'World'])\n",
        "arr2 = np.array(['Open', 'AI'])\n",
        "concatenated_strings = concatenate_strings(arr1, arr2)\n",
        "print(concatenated_strings)\n"
      ],
      "metadata": {
        "colab": {
          "base_uri": "https://localhost:8080/"
        },
        "id": "DJ6SpFuc7B00",
        "outputId": "69346517-99fc-47a4-ee0f-29aff5f98cb3"
      },
      "execution_count": 72,
      "outputs": [
        {
          "output_type": "stream",
          "name": "stdout",
          "text": [
            "['HelloOpen' 'WorldAI']\n"
          ]
        }
      ]
    },
    {
      "cell_type": "code",
      "source": [
        "#Ans60\n",
        "def longest_string_length(arr):\n",
        "    string_lengths = np.char.str_len(arr)\n",
        "    return np.max(string_lengths)\n",
        "\n",
        "arr = np.array(['apple', 'banana', 'grape', 'pineapple'])\n",
        "longest_length = longest_string_length(arr)\n",
        "print(longest_length)\n"
      ],
      "metadata": {
        "colab": {
          "base_uri": "https://localhost:8080/"
        },
        "id": "FYbL5Y2W7Ua8",
        "outputId": "4ad85a77-419d-4503-9c44-a3773862dc91"
      },
      "execution_count": 73,
      "outputs": [
        {
          "output_type": "stream",
          "name": "stdout",
          "text": [
            "9\n"
          ]
        }
      ]
    },
    {
      "cell_type": "code",
      "source": [
        "#Ans61\n",
        "dataset = np.random.randint(1, 1001, 100)\n",
        "\n",
        "mean_value = np.mean(dataset)\n",
        "median_value = np.median(dataset)\n",
        "variance_value = np.var(dataset)\n",
        "std_deviation = np.std(dataset)\n",
        "\n",
        "print(mean_value, median_value, variance_value, std_deviation)\n"
      ],
      "metadata": {
        "colab": {
          "base_uri": "https://localhost:8080/"
        },
        "id": "5tNswev87hJ4",
        "outputId": "e36070cb-e77d-4152-8d1e-579b27d9e0cd"
      },
      "execution_count": 74,
      "outputs": [
        {
          "output_type": "stream",
          "name": "stdout",
          "text": [
            "472.57 442.0 69238.18509999999 263.1314977344977\n"
          ]
        }
      ]
    },
    {
      "cell_type": "code",
      "source": [
        "#Ans62\n",
        "random_array = np.random.randint(1, 101, 50)\n",
        "\n",
        "percentile_25 = np.percentile(random_array, 25)\n",
        "percentile_75 = np.percentile(random_array, 75)\n",
        "\n",
        "print(percentile_25, percentile_75)\n"
      ],
      "metadata": {
        "colab": {
          "base_uri": "https://localhost:8080/"
        },
        "id": "qqBzCvz47ttZ",
        "outputId": "aed75735-d21c-4ff7-a2c3-dfc8697ccaed"
      },
      "execution_count": 75,
      "outputs": [
        {
          "output_type": "stream",
          "name": "stdout",
          "text": [
            "27.5 76.0\n"
          ]
        }
      ]
    },
    {
      "cell_type": "code",
      "source": [
        "#Ans63\n",
        "arr1 = np.random.rand(10)\n",
        "arr2 = np.random.rand(10)\n",
        "\n",
        "correlation_coefficient = np.corrcoef(arr1, arr2)\n",
        "print(correlation_coefficient)\n"
      ],
      "metadata": {
        "colab": {
          "base_uri": "https://localhost:8080/"
        },
        "id": "HtJVANml71yS",
        "outputId": "91fa6367-4f9c-4a12-a0c9-6baa4a6894a1"
      },
      "execution_count": 76,
      "outputs": [
        {
          "output_type": "stream",
          "name": "stdout",
          "text": [
            "[[1.         0.17905183]\n",
            " [0.17905183 1.        ]]\n"
          ]
        }
      ]
    },
    {
      "cell_type": "code",
      "source": [
        "#Ans64\n",
        "matrix1 = np.random.rand(3, 3)\n",
        "matrix2 = np.random.rand(3, 3)\n",
        "\n",
        "matrix_product = np.dot(matrix1, matrix2)\n",
        "print(matrix_product)\n"
      ],
      "metadata": {
        "colab": {
          "base_uri": "https://localhost:8080/"
        },
        "id": "uenL-Qdv8Bx8",
        "outputId": "2162947b-737b-47df-b37a-37c648f2d2b4"
      },
      "execution_count": 77,
      "outputs": [
        {
          "output_type": "stream",
          "name": "stdout",
          "text": [
            "[[0.25515391 1.08744736 0.91987587]\n",
            " [0.09307666 0.64331015 0.8951426 ]\n",
            " [0.16259198 1.01694721 1.16095727]]\n"
          ]
        }
      ]
    },
    {
      "cell_type": "code",
      "source": [
        "#Ans65\n",
        "int_array = np.random.randint(10, 1001, 50)\n",
        "\n",
        "percentile_10 = np.percentile(int_array, 10)\n",
        "percentile_50 = np.percentile(int_array, 50)\n",
        "percentile_90 = np.percentile(int_array, 90)\n",
        "quartile_1 = np.percentile(int_array, 25)\n",
        "quartile_3 = np.percentile(int_array, 75)\n",
        "\n",
        "print(percentile_10, percentile_50, percentile_90, quartile_1, quartile_3)\n"
      ],
      "metadata": {
        "colab": {
          "base_uri": "https://localhost:8080/"
        },
        "id": "CDwTLhbP8P8w",
        "outputId": "5aac4e7b-54c1-48b0-f69e-4703e61f616a"
      },
      "execution_count": 78,
      "outputs": [
        {
          "output_type": "stream",
          "name": "stdout",
          "text": [
            "86.8 490.5 881.4 182.5 749.25\n"
          ]
        }
      ]
    },
    {
      "cell_type": "code",
      "source": [
        "#Ans66\n",
        "arr = np.array([10, 20, 30, 40, 50])\n",
        "\n",
        "index = np.where(arr == 30)\n",
        "print(index)\n"
      ],
      "metadata": {
        "colab": {
          "base_uri": "https://localhost:8080/"
        },
        "id": "xfxMYiQq8mrx",
        "outputId": "6dd8698d-1d68-427c-e60a-c2d819742d56"
      },
      "execution_count": 79,
      "outputs": [
        {
          "output_type": "stream",
          "name": "stdout",
          "text": [
            "(array([2]),)\n"
          ]
        }
      ]
    },
    {
      "cell_type": "code",
      "source": [
        "#Ans67\n",
        "random_array = np.random.randint(1, 100, 10)\n",
        "\n",
        "sorted_array = np.sort(random_array)\n",
        "print(sorted_array)\n"
      ],
      "metadata": {
        "colab": {
          "base_uri": "https://localhost:8080/"
        },
        "id": "o5-4h6E58wFN",
        "outputId": "38e20980-68c4-4beb-ab39-98cbf4230e23"
      },
      "execution_count": 80,
      "outputs": [
        {
          "output_type": "stream",
          "name": "stdout",
          "text": [
            "[ 3  6 17 19 44 49 56 63 70 71]\n"
          ]
        }
      ]
    },
    {
      "cell_type": "code",
      "source": [
        "#Ans68\n",
        "arr = np.array([12, 25, 6, 42, 8, 30])\n",
        "\n",
        "filtered_array = arr[arr > 20]\n",
        "print(filtered_array)\n"
      ],
      "metadata": {
        "colab": {
          "base_uri": "https://localhost:8080/"
        },
        "id": "fP7LcRTG85fS",
        "outputId": "2fc3861c-1e98-4b94-fd8d-425abac0f73f"
      },
      "execution_count": 81,
      "outputs": [
        {
          "output_type": "stream",
          "name": "stdout",
          "text": [
            "[25 42 30]\n"
          ]
        }
      ]
    },
    {
      "cell_type": "code",
      "source": [
        "#Ans69\n",
        "arr = np.array([1, 5, 8, 12, 15])\n",
        "\n",
        "filtered_array = arr[arr % 3 == 0]\n",
        "print(filtered_array)\n"
      ],
      "metadata": {
        "colab": {
          "base_uri": "https://localhost:8080/"
        },
        "id": "oGMbrxVU9Ajy",
        "outputId": "940c7519-fef4-4705-c400-71c36e3cf3da"
      },
      "execution_count": 82,
      "outputs": [
        {
          "output_type": "stream",
          "name": "stdout",
          "text": [
            "[12 15]\n"
          ]
        }
      ]
    },
    {
      "cell_type": "code",
      "source": [
        "#Ans70\n",
        "arr = np.array([10, 20, 30, 40, 50])\n",
        "\n",
        "filtered_array = arr[(arr >= 20) & (arr <= 40)]\n",
        "print(filtered_array)\n"
      ],
      "metadata": {
        "colab": {
          "base_uri": "https://localhost:8080/"
        },
        "id": "qFhBPuAe9QeY",
        "outputId": "5e653621-0b8b-4f2a-a934-bcae9f811b9d"
      },
      "execution_count": 83,
      "outputs": [
        {
          "output_type": "stream",
          "name": "stdout",
          "text": [
            "[20 30 40]\n"
          ]
        }
      ]
    },
    {
      "cell_type": "code",
      "source": [
        "#Ans71\n",
        "arr = np.array([1, 2, 3])\n",
        "\n",
        "byte_order = arr.dtype.byteorder\n",
        "print(byte_order)\n"
      ],
      "metadata": {
        "colab": {
          "base_uri": "https://localhost:8080/"
        },
        "id": "q9QjsUYb9YpF",
        "outputId": "97cb9897-10cf-4836-dd4d-792b9b443b87"
      },
      "execution_count": 84,
      "outputs": [
        {
          "output_type": "stream",
          "name": "stdout",
          "text": [
            "=\n"
          ]
        }
      ]
    },
    {
      "cell_type": "code",
      "source": [
        "#Ans72\n",
        "arr = np.array([1, 2, 3], dtype=np.int32)\n",
        "\n",
        "arr.byteswap(inplace=True)\n",
        "print(arr)\n"
      ],
      "metadata": {
        "colab": {
          "base_uri": "https://localhost:8080/"
        },
        "id": "wx35iOnm9tEB",
        "outputId": "17d4f9e5-90b8-42ad-87d7-64a51e7aa1e8"
      },
      "execution_count": 85,
      "outputs": [
        {
          "output_type": "stream",
          "name": "stdout",
          "text": [
            "[16777216 33554432 50331648]\n"
          ]
        }
      ]
    },
    {
      "cell_type": "code",
      "source": [
        "#Ans73\n",
        "arr = np.array([1, 2, 3], dtype=np.int32)\n",
        "\n",
        "swapped_arr = arr.newbyteorder()\n",
        "print(swapped_arr)\n"
      ],
      "metadata": {
        "colab": {
          "base_uri": "https://localhost:8080/"
        },
        "id": "twoQJ10o9-0S",
        "outputId": "d3790f67-7c1a-4348-8e73-99b00a852a11"
      },
      "execution_count": 86,
      "outputs": [
        {
          "output_type": "stream",
          "name": "stdout",
          "text": [
            "[16777216 33554432 50331648]\n"
          ]
        }
      ]
    },
    {
      "cell_type": "code",
      "source": [
        "#Ans74\n",
        "arr = np.array([1, 2, 3], dtype=np.int32)\n",
        "\n",
        "if arr.dtype.byteorder == '=':\n",
        "    swapped_arr = arr.newbyteorder()\n",
        "else:\n",
        "    swapped_arr = arr\n",
        "print(swapped_arr)\n"
      ],
      "metadata": {
        "colab": {
          "base_uri": "https://localhost:8080/"
        },
        "id": "2d-cZXb2-J9z",
        "outputId": "e6b84846-733f-4bde-d130-a71a4fa67a10"
      },
      "execution_count": 88,
      "outputs": [
        {
          "output_type": "stream",
          "name": "stdout",
          "text": [
            "[16777216 33554432 50331648]\n"
          ]
        }
      ]
    },
    {
      "cell_type": "code",
      "source": [
        "#Ans75\n",
        "arr = np.array([1, 2, 3], dtype=np.int32)\n",
        "\n",
        "byte_order = arr.dtype.byteorder\n",
        "if byte_order == '=':\n",
        "    print(\"Byte swapping is necessary.\")\n",
        "else:\n",
        "    print(\"Byte swapping is not necessary.\")\n"
      ],
      "metadata": {
        "colab": {
          "base_uri": "https://localhost:8080/"
        },
        "id": "6rlJHMZm-TVc",
        "outputId": "beb3068e-8d35-4c07-af00-f2c5724bdef8"
      },
      "execution_count": 89,
      "outputs": [
        {
          "output_type": "stream",
          "name": "stdout",
          "text": [
            "Byte swapping is necessary.\n"
          ]
        }
      ]
    },
    {
      "cell_type": "code",
      "source": [
        "#Ans76\n",
        "arr1 = np.arange(1, 11)\n",
        "\n",
        "copy_arr = arr1.copy()\n",
        "\n",
        "copy_arr[0] = 100\n",
        "\n",
        "print(\"Original array:\", arr1)\n",
        "print(\"Modified copy:\", copy_arr)\n"
      ],
      "metadata": {
        "colab": {
          "base_uri": "https://localhost:8080/"
        },
        "id": "xT-hPpTs-eD0",
        "outputId": "eaa25244-d345-45ce-bb7f-9a8ddd2b461d"
      },
      "execution_count": 90,
      "outputs": [
        {
          "output_type": "stream",
          "name": "stdout",
          "text": [
            "Original array: [ 1  2  3  4  5  6  7  8  9 10]\n",
            "Modified copy: [100   2   3   4   5   6   7   8   9  10]\n"
          ]
        }
      ]
    },
    {
      "cell_type": "code",
      "source": [
        "#Ans77\n",
        "matrix = np.random.randint(1, 10, (3, 3))\n",
        "\n",
        "view_slice = matrix[:, 1:3]\n",
        "\n",
        "view_slice[0, 0] = 100\n",
        "\n",
        "print(\"Original matrix:\\n\", matrix)\n",
        "print(\"Modified slice:\\n\", view_slice)\n"
      ],
      "metadata": {
        "colab": {
          "base_uri": "https://localhost:8080/"
        },
        "id": "n1pXcEwS-yIO",
        "outputId": "456a8909-8770-4895-caf7-648c63921f73"
      },
      "execution_count": 91,
      "outputs": [
        {
          "output_type": "stream",
          "name": "stdout",
          "text": [
            "Original matrix:\n",
            " [[  2 100   3]\n",
            " [  3   8   5]\n",
            " [  9   6   4]]\n",
            "Modified slice:\n",
            " [[100   3]\n",
            " [  8   5]\n",
            " [  6   4]]\n"
          ]
        }
      ]
    },
    {
      "cell_type": "code",
      "source": [
        "#Ans78\n",
        "array_a = np.arange(1, 13).reshape(4, 3)\n",
        "\n",
        "view_b = array_a[:, 1:3]\n",
        "\n",
        "view_b += 5\n",
        "\n",
        "print(\"Original array:\\n\", array_a)\n",
        "print(\"Modified view:\\n\", view_b)\n"
      ],
      "metadata": {
        "colab": {
          "base_uri": "https://localhost:8080/"
        },
        "id": "l_OVrpXu_GLr",
        "outputId": "1ea30bf7-fb31-4dbc-c914-5adc16d40d03"
      },
      "execution_count": 92,
      "outputs": [
        {
          "output_type": "stream",
          "name": "stdout",
          "text": [
            "Original array:\n",
            " [[ 1  7  8]\n",
            " [ 4 10 11]\n",
            " [ 7 13 14]\n",
            " [10 16 17]]\n",
            "Modified view:\n",
            " [[ 7  8]\n",
            " [10 11]\n",
            " [13 14]\n",
            " [16 17]]\n"
          ]
        }
      ]
    },
    {
      "cell_type": "code",
      "source": [
        "#Ans79\n",
        "orig_array = np.arange(1, 9).reshape(2, 4)\n",
        "\n",
        "reshaped_view = orig_array.reshape(4, 2)\n",
        "\n",
        "reshaped_view[0, 0] = 100\n",
        "\n",
        "print(\"Original array:\\n\", orig_array)\n",
        "print(\"Reshaped view:\\n\", reshaped_view)"
      ],
      "metadata": {
        "colab": {
          "base_uri": "https://localhost:8080/"
        },
        "id": "rNMhrPVf_iKK",
        "outputId": "5288d1b4-5ee3-4154-8527-89b00daf7cb0"
      },
      "execution_count": 93,
      "outputs": [
        {
          "output_type": "stream",
          "name": "stdout",
          "text": [
            "Original array:\n",
            " [[100   2   3   4]\n",
            " [  5   6   7   8]]\n",
            "Reshaped view:\n",
            " [[100   2]\n",
            " [  3   4]\n",
            " [  5   6]\n",
            " [  7   8]]\n"
          ]
        }
      ]
    },
    {
      "cell_type": "code",
      "source": [
        "#Ans80\n",
        "data = np.random.randint(1, 10, (3, 4))\n",
        "\n",
        "data_copy = data[data > 5].copy()\n",
        "\n",
        "data_copy[0] = 100\n",
        "\n",
        "print(\"Original data:\\n\", data)\n",
        "print(\"Modified copy:\\n\", data_copy)\n"
      ],
      "metadata": {
        "colab": {
          "base_uri": "https://localhost:8080/"
        },
        "id": "uHHqPlBU__Wj",
        "outputId": "d2e3df39-fe93-4390-fb37-4a43eb4d414f"
      },
      "execution_count": 94,
      "outputs": [
        {
          "output_type": "stream",
          "name": "stdout",
          "text": [
            "Original data:\n",
            " [[3 1 9 7]\n",
            " [3 1 8 9]\n",
            " [1 2 6 3]]\n",
            "Modified copy:\n",
            " [100   7   8   9   6]\n"
          ]
        }
      ]
    },
    {
      "cell_type": "code",
      "source": [
        "#Ans81\n",
        "A = np.random.randint(1, 10, (3, 3))\n",
        "B = np.random.randint(1, 10, (3, 3))\n",
        "\n",
        "matrix_addition = A + B\n",
        "matrix_subtraction = A - B\n",
        "\n",
        "print(\"Matrix A:\\n\", A)\n",
        "print(\"Matrix B:\\n\", B)\n",
        "print(\"Matrix Addition:\\n\", matrix_addition)\n",
        "print(\"Matrix Subtraction:\\n\", matrix_subtraction)\n"
      ],
      "metadata": {
        "colab": {
          "base_uri": "https://localhost:8080/"
        },
        "id": "3TFuQb7BASQH",
        "outputId": "86cb364d-6a97-42eb-a407-d9a289d71ab1"
      },
      "execution_count": 95,
      "outputs": [
        {
          "output_type": "stream",
          "name": "stdout",
          "text": [
            "Matrix A:\n",
            " [[6 1 7]\n",
            " [9 2 2]\n",
            " [7 6 1]]\n",
            "Matrix B:\n",
            " [[6 9 9]\n",
            " [2 8 1]\n",
            " [7 9 7]]\n",
            "Matrix Addition:\n",
            " [[12 10 16]\n",
            " [11 10  3]\n",
            " [14 15  8]]\n",
            "Matrix Subtraction:\n",
            " [[ 0 -8 -2]\n",
            " [ 7 -6  1]\n",
            " [ 0 -3 -6]]\n"
          ]
        }
      ]
    },
    {
      "cell_type": "code",
      "source": [
        "#Ans82\n",
        "C = np.random.randint(1, 10, (3, 2))\n",
        "D = np.random.randint(1, 10, (2, 4))\n",
        "\n",
        "matrix_multiplication = np.dot(C, D)\n",
        "print(matrix_multiplication)\n"
      ],
      "metadata": {
        "colab": {
          "base_uri": "https://localhost:8080/"
        },
        "id": "QkSKWVEKAdgz",
        "outputId": "ffb5dcd5-a05c-4b6e-db15-a5b966e2d492"
      },
      "execution_count": 96,
      "outputs": [
        {
          "output_type": "stream",
          "name": "stdout",
          "text": [
            "[[ 62  69 101  48]\n",
            " [ 28  58  58  32]\n",
            " [ 16  35  34  19]]\n"
          ]
        }
      ]
    },
    {
      "cell_type": "code",
      "source": [
        "#Ans83\n",
        "E = np.random.randint(1, 10, (3, 3))\n",
        "\n",
        "transpose_E = E.T\n",
        "print(\"Original matrix:\\n\", E)\n",
        "print(\"Transpose:\\n\", transpose_E)\n"
      ],
      "metadata": {
        "colab": {
          "base_uri": "https://localhost:8080/"
        },
        "id": "EnJUmOLgAqek",
        "outputId": "f6f7be6d-9439-4d6e-fbc7-fde493de0d6c"
      },
      "execution_count": 97,
      "outputs": [
        {
          "output_type": "stream",
          "name": "stdout",
          "text": [
            "Original matrix:\n",
            " [[6 3 7]\n",
            " [1 8 4]\n",
            " [8 1 2]]\n",
            "Transpose:\n",
            " [[6 1 8]\n",
            " [3 8 1]\n",
            " [7 4 2]]\n"
          ]
        }
      ]
    },
    {
      "cell_type": "code",
      "source": [
        "#Ans84\n",
        "F = np.random.randint(1, 10, (3, 3))\n",
        "\n",
        "determinant_F = np.linalg.det(F)\n",
        "print(\"Matrix F:\\n\", F)\n",
        "print(\"Determinant:\", determinant_F)\n"
      ],
      "metadata": {
        "colab": {
          "base_uri": "https://localhost:8080/"
        },
        "id": "pMuINj76A1DE",
        "outputId": "8cea4711-9890-4252-8c1c-277b5b7b55ed"
      },
      "execution_count": 98,
      "outputs": [
        {
          "output_type": "stream",
          "name": "stdout",
          "text": [
            "Matrix F:\n",
            " [[9 6 8]\n",
            " [9 6 3]\n",
            " [4 9 7]]\n",
            "Determinant: 285.00000000000006\n"
          ]
        }
      ]
    },
    {
      "cell_type": "code",
      "source": [
        "#Ans85\n",
        "G = np.random.randint(1, 10, (3, 3))\n",
        "\n",
        "inverse_G = np.linalg.inv(G)\n",
        "print(\"Matrix G:\\n\", G)\n",
        "print(\"Inverse:\\n\", inverse_G)\n"
      ],
      "metadata": {
        "colab": {
          "base_uri": "https://localhost:8080/"
        },
        "id": "536ngN3ZA8DM",
        "outputId": "486a49e5-6582-4476-ebc5-b6d3ab3f2aa4"
      },
      "execution_count": 99,
      "outputs": [
        {
          "output_type": "stream",
          "name": "stdout",
          "text": [
            "Matrix G:\n",
            " [[4 4 8]\n",
            " [4 4 7]\n",
            " [1 7 4]]\n",
            "Inverse:\n",
            " [[-1.375       1.66666667 -0.16666667]\n",
            " [-0.375       0.33333333  0.16666667]\n",
            " [ 1.         -1.         -0.        ]]\n"
          ]
        }
      ]
    }
  ]
}