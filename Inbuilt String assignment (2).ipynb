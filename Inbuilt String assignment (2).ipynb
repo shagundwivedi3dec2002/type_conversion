{
 "cells": [
  {
   "cell_type": "markdown",
   "id": "2a9d93f9-18bb-431b-a016-533838924a98",
   "metadata": {},
   "source": [
    "### 1. What is the purpose of the len() function in Python, and how can it be used with strings?\n",
    "\n",
    "The len() function in Python is used to determine the number of elements in an object, such as a string, list, tuple, dictionary, or any other iterable. When used with strings, the len() function returns the number of characters in the string, including spaces, punctuation, and special characters.\n",
    "\n",
    "Purpose:\n",
    "Measure Length: The primary purpose of len() is to measure the length of an object.\n",
    "Efficient: It provides a quick and efficient way to count the number of elements or characters.\n",
    "\n",
    "How to Use len() with Strings:\n",
    "Here’s an example of how to use the len() function with a string:\n"
   ]
  },
  {
   "cell_type": "code",
   "execution_count": 1,
   "id": "ab3c5345-60a8-4849-92c3-a13fc4df470b",
   "metadata": {},
   "outputs": [
    {
     "name": "stdout",
     "output_type": "stream",
     "text": [
      "13\n"
     ]
    }
   ],
   "source": [
    "# Example string\n",
    "my_string = \"Hello, World!\"\n",
    "\n",
    "# Using len() to get the number of characters in the string\n",
    "length_of_string = len(my_string)\n",
    "\n",
    "# Printing the length\n",
    "print(length_of_string)"
   ]
  },
  {
   "cell_type": "markdown",
   "id": "5d403ed3-f124-4012-b692-9b6b0370dd42",
   "metadata": {},
   "source": [
    "### 2. How can you concatenate two or more strings in Python, and can you provide an example of string concatenation?\n",
    "\n",
    "In Python, you can concatenate (or join together) two or more strings using several methods. The most common ways are using the + operator, the join() method, or formatted string literals (f-strings).\n",
    "\n",
    "Methods for String Concatenation:\n",
    "\n",
    "1. Using the + Operator:\n",
    "\n",
    "The + operator is straightforward and directly adds one string to another.\n"
   ]
  },
  {
   "cell_type": "code",
   "execution_count": 4,
   "id": "b60d6d1e-42cc-4d76-8fe7-aebb7e27156e",
   "metadata": {},
   "outputs": [
    {
     "name": "stdout",
     "output_type": "stream",
     "text": [
      "Hello World\n"
     ]
    }
   ],
   "source": [
    "string1 = \"Hello\"\n",
    "string2 = \"World\"\n",
    "concatenated_string = string1 + \" \" + string2\n",
    "print(concatenated_string)"
   ]
  },
  {
   "cell_type": "markdown",
   "id": "139d9174-ec43-4fb5-834a-f7c466d4c265",
   "metadata": {},
   "source": [
    "2. Using the join() Method:\n",
    "\n",
    "The join() method is useful when you want to concatenate a list of strings with a specific separator."
   ]
  },
  {
   "cell_type": "code",
   "execution_count": 5,
   "id": "b2ac1374-e545-413a-8e8e-72f65dd22ec1",
   "metadata": {},
   "outputs": [
    {
     "name": "stdout",
     "output_type": "stream",
     "text": [
      "Hello World\n"
     ]
    }
   ],
   "source": [
    "string_list = [\"Hello\", \"World\"]\n",
    "concatenated_string = \" \".join(string_list)\n",
    "print(concatenated_string) "
   ]
  },
  {
   "cell_type": "markdown",
   "id": "6cc07c7d-4fed-4811-96e8-208603e90fe4",
   "metadata": {},
   "source": [
    "3. Using Formatted String Literals (f-strings):\n",
    "\n",
    "f-strings (introduced in Python 3.6) provide a way to embed expressions inside string literals, using curly braces {}.\n"
   ]
  },
  {
   "cell_type": "code",
   "execution_count": 6,
   "id": "4725e66a-85e7-424f-89a7-655ad8956d04",
   "metadata": {},
   "outputs": [
    {
     "name": "stdout",
     "output_type": "stream",
     "text": [
      "Hello World\n"
     ]
    }
   ],
   "source": [
    "string1 = \"Hello\"\n",
    "string2 = \"World\"\n",
    "concatenated_string = f\"{string1} {string2}\"\n",
    "print(concatenated_string)"
   ]
  },
  {
   "cell_type": "code",
   "execution_count": 8,
   "id": "504c86af-f968-4983-a5a1-2bf61ca2e846",
   "metadata": {},
   "outputs": [
    {
     "name": "stdout",
     "output_type": "stream",
     "text": [
      "John Doe\n",
      "John Doe\n",
      "John Doe\n"
     ]
    }
   ],
   "source": [
    "#Example of String Concatenation:\n",
    "\n",
    "# Defining two strings\n",
    "first_name = \"John\"\n",
    "last_name = \"Doe\"\n",
    "\n",
    "# Concatenating using the + operator\n",
    "full_name = first_name + \" \" + last_name\n",
    "print(full_name)  \n",
    "\n",
    "# Concatenating using the join() method\n",
    "full_name = \" \".join([first_name, last_name])\n",
    "print(full_name)  \n",
    "\n",
    "# Concatenating using an f-string\n",
    "full_name = f\"{first_name} {last_name}\"\n",
    "print(full_name)  \n",
    "\n",
    "#In each of these examples, the strings \"John\" and \"Doe\" are concatenated with a space in between, resulting in \"John Doe\". The method you choose depends on your specific needs and coding style preferences.\n"
   ]
  },
  {
   "cell_type": "markdown",
   "id": "cad8dede-d5f0-4323-b02d-daaf33f46287",
   "metadata": {},
   "source": [
    "### 3. What is string slicing in Python, and how can you extract a portion of a string using this method?\n",
    "\n",
    "String slicing in Python is a technique used to extract a portion (or \"slice\") of a string based on specified indices. This allows you to access a substring or individual characters from a string by specifying a range of indices.\n",
    "\n",
    "How String Slicing Works:\n",
    "Syntax: string[start:stop:step]\n",
    "start: The starting index (inclusive) where the slicing begins.\n",
    "stop: The ending index (exclusive) where the slicing stops.\n",
    "step: The step size or interval between each character to include in the slice (optional, default is 1).\n",
    "Key Points:\n",
    "Indices: Python uses zero-based indexing, so the first character in a string has an index of 0.\n",
    "Negative Indices: Negative indices can be used to slice from the end of the string (e.g., -1 refers to the last character).\n",
    "Defaults: If start is omitted, it defaults to 0. If stop is omitted, it defaults to the length of the string. If step is omitted, it defaults to 1.\n",
    "\n"
   ]
  },
  {
   "cell_type": "code",
   "execution_count": 10,
   "id": "f361bb92-0feb-43fd-b9fb-c270091006a4",
   "metadata": {},
   "outputs": [
    {
     "name": "stdout",
     "output_type": "stream",
     "text": [
      "World\n"
     ]
    }
   ],
   "source": [
    "# Examples of String Slicing:\n",
    "# 1. Extracting a Substring:\n",
    "\n",
    "my_string = \"Hello, World!\"\n",
    "sliced_string = my_string[7:12]\n",
    "print(sliced_string)\n",
    "\n",
    "# Explanation: my_string[7:12] extracts characters from index 7 to 11 (note that 12 is excluded).\n"
   ]
  },
  {
   "cell_type": "code",
   "execution_count": 12,
   "id": "8cca3dc4-152f-481c-ad85-4a4838227b14",
   "metadata": {},
   "outputs": [
    {
     "name": "stdout",
     "output_type": "stream",
     "text": [
      "aceg\n"
     ]
    }
   ],
   "source": [
    "# 2. Slicing with a Step:\n",
    "\n",
    "my_string = \"abcdefg\"\n",
    "sliced_string = my_string[0:7:2]\n",
    "print(sliced_string) \n",
    "\n",
    "# Explanation: my_string[0:7:2] extracts characters from index 0 to 6, taking every second character (a, c, e, g)."
   ]
  },
  {
   "cell_type": "code",
   "execution_count": 14,
   "id": "1c5fd94f-4461-4f1e-ad3f-7341d00b3417",
   "metadata": {},
   "outputs": [
    {
     "name": "stdout",
     "output_type": "stream",
     "text": [
      "Hello\n"
     ]
    }
   ],
   "source": [
    "# 3. Slicing from the Beginning:\n",
    "\n",
    "my_string = \"Hello, World!\"\n",
    "sliced_string = my_string[:5]\n",
    "print(sliced_string) \n",
    "\n",
    "# Explanation: my_string[:5] extracts the first five characters (from the beginning to index 4)."
   ]
  },
  {
   "cell_type": "code",
   "execution_count": 16,
   "id": "46cc281f-4715-4749-bdde-3275a3359f6e",
   "metadata": {},
   "outputs": [
    {
     "name": "stdout",
     "output_type": "stream",
     "text": [
      "World!\n"
     ]
    }
   ],
   "source": [
    "# 4. Slicing to the End:\n",
    "\n",
    "my_string = \"Hello, World!\"\n",
    "sliced_string = my_string[7:]\n",
    "print(sliced_string)\n",
    "\n",
    "# Explanation: my_string[7:] extracts characters from index 7 to the end of the string."
   ]
  },
  {
   "cell_type": "code",
   "execution_count": 17,
   "id": "9193af51-83f7-447b-9a9f-24fc0427a44d",
   "metadata": {},
   "outputs": [
    {
     "name": "stdout",
     "output_type": "stream",
     "text": [
      "World\n"
     ]
    }
   ],
   "source": [
    "# 5. Negative Indices:\n",
    "\n",
    "my_string = \"Hello, World!\"\n",
    "sliced_string = my_string[-6:-1]\n",
    "print(sliced_string)  # Output: World\n",
    "\n",
    "# Explanation: my_string[-6:-1] extracts characters from index -6 (from the end) to -2 (excluding -1 which is the last character)."
   ]
  },
  {
   "cell_type": "markdown",
   "id": "2e67cb6f-7b85-457e-82f5-c3bebc491c4a",
   "metadata": {},
   "source": [
    "### 4. How can you change the case of a string in Python, and can you provide examples of both making a string all uppercase and all lowercase?\n",
    "\n",
    "In Python, you can change the case of a string using the upper() and lower() methods. These methods allow you to convert all characters in a string to uppercase or lowercase, respectively.\n",
    "\n",
    "Changing the Case of a String:\n",
    "1. Making a String All Uppercase:\n",
    "\n",
    "The upper() method converts all characters in the string to uppercase."
   ]
  },
  {
   "cell_type": "code",
   "execution_count": 20,
   "id": "70eb39a7-2e6a-419c-bf16-c6fd4649f166",
   "metadata": {},
   "outputs": [
    {
     "name": "stdout",
     "output_type": "stream",
     "text": [
      "HELLO, WORLD!\n"
     ]
    }
   ],
   "source": [
    "my_string = \"Hello, World!\"\n",
    "uppercase_string = my_string.upper()\n",
    "print(uppercase_string)\n",
    "\n",
    "# Explanation: In this example, \"Hello, World!\" is converted to \"HELLO, WORLD!\"."
   ]
  },
  {
   "cell_type": "code",
   "execution_count": 24,
   "id": "74e7a5a8-e513-4975-878a-26bea868e663",
   "metadata": {},
   "outputs": [
    {
     "name": "stdout",
     "output_type": "stream",
     "text": [
      "hello, world!\n"
     ]
    }
   ],
   "source": [
    "# 2. Making a String All Lowercase:\n",
    "\n",
    "# The lower() method converts all characters in the string to lowercase.\n",
    "\n",
    "my_string = \"Hello, World!\"\n",
    "lowercase_string = my_string.lower()\n",
    "print(lowercase_string)  \n",
    "\n",
    "# Explanation: In this example, \"Hello, World!\" is converted to \"hello, world!\"."
   ]
  },
  {
   "cell_type": "code",
   "execution_count": 25,
   "id": "283f074d-54d5-4d43-9243-c0e3891387eb",
   "metadata": {},
   "outputs": [
    {
     "name": "stdout",
     "output_type": "stream",
     "text": [
      "Hello, World!\n"
     ]
    }
   ],
   "source": [
    "# Additional Case Conversion Methods:\n",
    "# Title Case: Converts the first character of each word to uppercase and the rest to lowercase.\n",
    "\n",
    "my_string = \"hello, world!\"\n",
    "title_case_string = my_string.title()\n",
    "print(title_case_string) \n",
    "\n",
    "# Swap Case: Swaps the case of each character (uppercase to lowercase and vice versa).\n",
    "\n"
   ]
  },
  {
   "cell_type": "code",
   "execution_count": 26,
   "id": "29d1e464-96c7-49c3-b86a-bd8965a72c99",
   "metadata": {},
   "outputs": [
    {
     "name": "stdout",
     "output_type": "stream",
     "text": [
      "hELLO, wORLD!\n"
     ]
    }
   ],
   "source": [
    "my_string = \"Hello, World!\"\n",
    "swapped_case_string = my_string.swapcase()\n",
    "print(swapped_case_string)  # Output: hELLO, wORLD!\n"
   ]
  },
  {
   "cell_type": "markdown",
   "id": "a3f82424-c895-414a-92da-952233340d99",
   "metadata": {},
   "source": [
    "### 5. What does the split() method do in Python, and how can you split a string using a specific delimiter?\n",
    "\n",
    "The split() method in Python is used to split a string into a list of substrings based on a specified delimiter. By default, it splits the string wherever there is whitespace (spaces, tabs, or newlines), but you can specify any delimiter to use for splitting.\n",
    "\n",
    "How the split() Method Works:\n",
    "Syntax: string.split(delimiter, maxsplit)\n",
    "delimiter: The character or substring on which to split the string. If not specified, the default is any whitespace.\n",
    "maxsplit (optional): The maximum number of splits to do. If not specified, all possible splits are made.\n",
    "\n",
    "#### Examples of Using split():"
   ]
  },
  {
   "cell_type": "code",
   "execution_count": 27,
   "id": "f9ac8d77-b4cd-4a24-8810-9f821f6870c4",
   "metadata": {},
   "outputs": [
    {
     "name": "stdout",
     "output_type": "stream",
     "text": [
      "['Hello', 'World!', 'How', 'are', 'you?']\n"
     ]
    }
   ],
   "source": [
    "# 1. Splitting a String on Whitespace (Default Behavior):\n",
    "\n",
    "my_string = \"Hello World! How are you?\"\n",
    "split_string = my_string.split()\n",
    "print(split_string) \n",
    "\n",
    "# Explanation: The string is split at each space, resulting in a list of words."
   ]
  },
  {
   "cell_type": "code",
   "execution_count": 28,
   "id": "36af6cdc-0db3-458f-ab93-fb4c6223d41a",
   "metadata": {},
   "outputs": [
    {
     "name": "stdout",
     "output_type": "stream",
     "text": [
      "['apple', 'banana', 'orange', 'grape']\n"
     ]
    }
   ],
   "source": [
    "# 2. Splitting a String Using a Specific Delimiter:\n",
    "\n",
    "my_string = \"apple,banana,orange,grape\"\n",
    "split_string = my_string.split(\",\")\n",
    "print(split_string)  # Output: ['apple', 'banana', 'orange', 'grape']\n",
    "\n",
    "# Explanation: The string is split at each comma, resulting in a list of fruit names."
   ]
  },
  {
   "cell_type": "code",
   "execution_count": 29,
   "id": "babecb1f-f925-4300-806d-c32bde6d5e21",
   "metadata": {},
   "outputs": [
    {
     "name": "stdout",
     "output_type": "stream",
     "text": [
      "['one', 'two', 'three,four,five']\n"
     ]
    }
   ],
   "source": [
    "# 3. Splitting a String Using a Delimiter with maxsplit:\n",
    "\n",
    "my_string = \"one,two,three,four,five\"\n",
    "split_string = my_string.split(\",\", 2)\n",
    "print(split_string)  # Output: ['one', 'two', 'three,four,five']\n",
    "\n",
    "# Explanation: The string is split only at the first two commas, resulting in three substrings."
   ]
  },
  {
   "cell_type": "code",
   "execution_count": 30,
   "id": "7aa3b3fe-9908-4305-b9d9-8fbe3fb6c77d",
   "metadata": {},
   "outputs": [
    {
     "name": "stdout",
     "output_type": "stream",
     "text": [
      "['path', 'to', 'file.txt']\n"
     ]
    }
   ],
   "source": [
    "# 4. Splitting a String with a Different Delimiter:\n",
    "\n",
    "my_string = \"path/to/file.txt\"\n",
    "split_string = my_string.split(\"/\")\n",
    "print(split_string)  # Output: ['path', 'to', 'file.txt']\n",
    "\n",
    "# Explanation: The string is split at each forward slash, which is common in file paths."
   ]
  },
  {
   "cell_type": "markdown",
   "id": "d311a233-8cc0-49db-bba9-fecf51dc9bd5",
   "metadata": {},
   "source": [
    "### Thankyou"
   ]
  },
  {
   "cell_type": "code",
   "execution_count": null,
   "id": "fa9c76c2-8af2-4a18-b789-dc65bfd25fb7",
   "metadata": {},
   "outputs": [],
   "source": []
  }
 ],
 "metadata": {
  "kernelspec": {
   "display_name": "Python 3 (ipykernel)",
   "language": "python",
   "name": "python3"
  },
  "language_info": {
   "codemirror_mode": {
    "name": "ipython",
    "version": 3
   },
   "file_extension": ".py",
   "mimetype": "text/x-python",
   "name": "python",
   "nbconvert_exporter": "python",
   "pygments_lexer": "ipython3",
   "version": "3.12.3"
  }
 },
 "nbformat": 4,
 "nbformat_minor": 5
}
