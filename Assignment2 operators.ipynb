{
 "cells": [
  {
   "cell_type": "code",
   "execution_count": 2,
   "id": "80cb94ac-0e2b-4d53-9e73-b16a2ae1ca80",
   "metadata": {},
   "outputs": [
    {
     "name": "stdin",
     "output_type": "stream",
     "text": [
      "Enter the first number:  5\n",
      "Enter the second number:  2\n"
     ]
    },
    {
     "name": "stdout",
     "output_type": "stream",
     "text": [
      "Sum:  7.0\n",
      "Difference:  3.0\n",
      "Product:  10.0\n",
      "Quotient:  2.5\n"
     ]
    }
   ],
   "source": [
    "#Q1\n",
    "num1 = float(input(\"Enter the first number: \"))\n",
    "num2 = float(input(\"Enter the second number: \"))\n",
    "\n",
    "sum_result = num1 + num2\n",
    "difference_result = num1 - num2\n",
    "product_result = num1 * num2\n",
    "quotient_result = num1 / num2\n",
    "    \n",
    "print('Sum: ',sum_result)\n",
    "print('Difference: ',difference_result)\n",
    "print('Product: ',product_result)\n",
    "print('Quotient: ',quotient_result)\n"
   ]
  },
  {
   "cell_type": "code",
   "execution_count": 4,
   "id": "e9720c79-5609-46f9-80ca-e5f85b24de24",
   "metadata": {},
   "outputs": [
    {
     "name": "stdin",
     "output_type": "stream",
     "text": [
      "Enter the value of x:  5\n"
     ]
    },
    {
     "name": "stdout",
     "output_type": "stream",
     "text": [
      "After addition:  8\n",
      "After subtraction:  6\n",
      "After multiplication:  24\n",
      "After division:  12.0\n",
      "After exponentiation:  1728.0\n",
      "After floor division:  576.0\n",
      "After modulor operation:  0.0\n"
     ]
    }
   ],
   "source": [
    "#Q2 \n",
    "x = int(input('Enter the value of x: '))\n",
    "\n",
    "x = x + 3 \n",
    "print(\"After addition: \", x)\n",
    "\n",
    "x = x - 2 \n",
    "print(\"After subtraction: \", x)\n",
    "\n",
    "x = x * 4\n",
    "print(\"After multiplication: \", x)\n",
    "\n",
    "x = x / 2\n",
    "print(\"After division: \", x)\n",
    "\n",
    "x = x ** 3\n",
    "print(\"After exponentiation: \", x)\n",
    "\n",
    "x = x // 3 \n",
    "print(\"After floor division: \", x)\n",
    "\n",
    "x = x % 2\n",
    "print(\"After modulor operation: \", x)\n"
   ]
  },
  {
   "cell_type": "code",
   "execution_count": 5,
   "id": "a92bd4ca-1612-4124-9fcd-ef8f1f552cf0",
   "metadata": {},
   "outputs": [
    {
     "name": "stdin",
     "output_type": "stream",
     "text": [
      "Enter Your First Number:  20\n",
      "Enter Your Second Number:  10\n"
     ]
    },
    {
     "name": "stdout",
     "output_type": "stream",
     "text": [
      "num1 is greater than num2\n"
     ]
    }
   ],
   "source": [
    "#Q3\n",
    "num1=float(input('Enter Your First Number: '))\n",
    "num2=float(input('Enter Your Second Number: '))\n",
    "\n",
    "if num1 > num2:\n",
    "    print('num1 is greater than num2')\n",
    "else:\n",
    "        print('num1 is less than num2')"
   ]
  },
  {
   "cell_type": "code",
   "execution_count": 6,
   "id": "b2566fcd-0480-4e77-a7d4-1ca2fd820a0a",
   "metadata": {},
   "outputs": [
    {
     "name": "stdin",
     "output_type": "stream",
     "text": [
      "Enter Your First Number:  10\n",
      "Enter Your Second Number:  20\n"
     ]
    },
    {
     "name": "stdout",
     "output_type": "stream",
     "text": [
      "num1 is less than num2\n"
     ]
    }
   ],
   "source": [
    "num1=float(input('Enter Your First Number: '))\n",
    "num2=float(input('Enter Your Second Number: '))\n",
    "\n",
    "if num1 < num2:\n",
    "    print('num1 is less than num2')\n",
    "else:\n",
    "        print('num1 is greater than num2')"
   ]
  },
  {
   "cell_type": "code",
   "execution_count": 7,
   "id": "086a08ab-5692-4838-be98-a62c49fb7eb1",
   "metadata": {},
   "outputs": [
    {
     "name": "stdin",
     "output_type": "stream",
     "text": [
      "Enter Your First Number:  10\n",
      "Enter Your Second Number:  20\n"
     ]
    },
    {
     "name": "stdout",
     "output_type": "stream",
     "text": [
      "num1 is less than or equal to num2\n"
     ]
    }
   ],
   "source": [
    "num1=float(input('Enter Your First Number: '))\n",
    "num2=float(input('Enter Your Second Number: '))\n",
    "\n",
    "if num1 >= num2:\n",
    "    print('num1 is greater than or equal to num2')\n",
    "else:\n",
    "        print('num1 is less than or equal to num2')"
   ]
  },
  {
   "cell_type": "code",
   "execution_count": 8,
   "id": "34fe9d13-dd95-4205-bb1b-d42a5f881683",
   "metadata": {},
   "outputs": [
    {
     "name": "stdin",
     "output_type": "stream",
     "text": [
      "Enter Your First Number:  20\n",
      "Enter Your Second Number:  10\n"
     ]
    },
    {
     "name": "stdout",
     "output_type": "stream",
     "text": [
      "num1 is greater than or equal to num2\n"
     ]
    }
   ],
   "source": [
    "num1=float(input('Enter Your First Number: '))\n",
    "num2=float(input('Enter Your Second Number: '))\n",
    "\n",
    "if num1 <= num2:\n",
    "    print('num1 is less than or equal to num2')\n",
    "else:\n",
    "        print('num1 is greater than or equal to num2')"
   ]
  },
  {
   "cell_type": "code",
   "execution_count": 9,
   "id": "9ea300fc-1815-4f6b-8533-faa15b77f215",
   "metadata": {},
   "outputs": [
    {
     "name": "stdin",
     "output_type": "stream",
     "text": [
      "Enter Your First Number:  10\n",
      "Enter Your Second Number:  20\n"
     ]
    },
    {
     "name": "stdout",
     "output_type": "stream",
     "text": [
      "num1 is not equal to num2\n"
     ]
    }
   ],
   "source": [
    "num1=float(input('Enter Your First Number: '))\n",
    "num2=float(input('Enter Your Second Number: '))\n",
    "\n",
    "if num1 == num2:\n",
    "    print('num1 is equal to num2')\n",
    "else:\n",
    "        print('num1 is not equal to num2')"
   ]
  },
  {
   "cell_type": "code",
   "execution_count": 48,
   "id": "8e4ee936-7ed1-4ea7-8029-879fa96a257f",
   "metadata": {},
   "outputs": [
    {
     "name": "stdout",
     "output_type": "stream",
     "text": [
      "Both x and y are greater than 0\n"
     ]
    }
   ],
   "source": [
    "#Q4\n",
    "x = 5\n",
    "y = 10\n",
    "\n",
    "if x > 0 and y > 0:\n",
    "    print(\"Both x and y are greater than 0\")\n",
    "else:\n",
    "    print(\"At least one of x or y is not greater than 0\")"
   ]
  },
  {
   "cell_type": "code",
   "execution_count": 50,
   "id": "5606d617-0a2f-4767-a654-66721ab5eb60",
   "metadata": {},
   "outputs": [
    {
     "name": "stdout",
     "output_type": "stream",
     "text": [
      "You are between 18 and 65\n"
     ]
    }
   ],
   "source": [
    "age = 25\n",
    "\n",
    "if age < 18 or age > 65:\n",
    "    print(\"You are either under 18 or over 65\")\n",
    "else:\n",
    "    print(\"You are between 18 and 65\")\n"
   ]
  },
  {
   "cell_type": "code",
   "execution_count": 47,
   "id": "63d4f584-730f-4ba6-b2f6-34f3560288a9",
   "metadata": {},
   "outputs": [
    {
     "name": "stdout",
     "output_type": "stream",
     "text": [
      " x and y is greater than 0\n"
     ]
    }
   ],
   "source": [
    "x = 5\n",
    "y = 10\n",
    "\n",
    "if not x > 0:\n",
    "    print(\" x a negative number\")\n",
    "else:\n",
    "    print(\" x and y is greater than 0\")"
   ]
  },
  {
   "cell_type": "code",
   "execution_count": 51,
   "id": "2104ddcf-fa9d-42e2-a53a-72f41bd70f48",
   "metadata": {},
   "outputs": [
    {
     "name": "stdout",
     "output_type": "stream",
     "text": [
      "x and y are the same object\n"
     ]
    }
   ],
   "source": [
    "#Q5\n",
    "x = 10\n",
    "y = 10\n",
    "\n",
    "if x is y:\n",
    "    print(\"x and y are the same object\")\n",
    "else:\n",
    "    print(\"x and y are different objects\")"
   ]
  },
  {
   "cell_type": "code",
   "execution_count": 52,
   "id": "bfb56d82-24c0-4110-a57f-742b57c1a747",
   "metadata": {},
   "outputs": [
    {
     "name": "stdin",
     "output_type": "stream",
     "text": [
      "Enter the first integer:  1\n",
      "Enter the second integer:  0\n"
     ]
    },
    {
     "name": "stdout",
     "output_type": "stream",
     "text": [
      "Bitwise AND:  0\n",
      "Bitwise OR:  1\n",
      "Bitwise XOR:  1\n"
     ]
    }
   ],
   "source": [
    "#Q6\n",
    "num1 = int(input(\"Enter the first integer: \"))\n",
    "num2 = int(input(\"Enter the second integer: \"))\n",
    "\n",
    "bitwise_and = num1 & num2\n",
    "bitwise_or = num1 | num2\n",
    "bitwise_xor = num1 ^ num2\n",
    "\n",
    "\n",
    "print('Bitwise AND: ',bitwise_and)\n",
    "print('Bitwise OR: ',bitwise_or)\n",
    "print('Bitwise XOR: ',bitwise_xor)"
   ]
  },
  {
   "cell_type": "code",
   "execution_count": 63,
   "id": "460f6555-9b4c-45db-8fb3-52148ecf63de",
   "metadata": {},
   "outputs": [
    {
     "name": "stdin",
     "output_type": "stream",
     "text": [
      "Enter Your Value:  50.5\n"
     ]
    },
    {
     "name": "stdout",
     "output_type": "stream",
     "text": [
      "Sign Change of a number:  -50.5\n"
     ]
    }
   ],
   "source": [
    "#Q7\n",
    "number = float(input(\"Enter Your Value: \"))\n",
    "\n",
    "negative_number = -number\n",
    "\n",
    "print('Sign Change of a number: ',negative_number)\n"
   ]
  },
  {
   "cell_type": "code",
   "execution_count": 68,
   "id": "f2f96e7c-2af1-469d-b92e-7db7f6ab3f66",
   "metadata": {},
   "outputs": [
    {
     "name": "stdin",
     "output_type": "stream",
     "text": [
      "Enter Your Score 30\n"
     ]
    },
    {
     "name": "stdout",
     "output_type": "stream",
     "text": [
      "Fail\n"
     ]
    }
   ],
   "source": [
    "#Q8\n",
    "score =float(input('Enter Your Score'))\n",
    "\n",
    "if score >=33:\n",
    "    print(\"Pass\")  \n",
    "else:\n",
    "    print(\"Fail\") \n",
    "        "
   ]
  },
  {
   "cell_type": "code",
   "execution_count": 70,
   "id": "ba1e4c4c-4eff-4693-81d5-b78d6c2805de",
   "metadata": {},
   "outputs": [
    {
     "name": "stdout",
     "output_type": "stream",
     "text": [
      "Adult\n"
     ]
    }
   ],
   "source": [
    "age = 22\n",
    "\n",
    "if age >= 18:\n",
    "    print(\"Adult\")  \n",
    "else:\n",
    "    print(\"Minor\")"
   ]
  },
  {
   "cell_type": "code",
   "execution_count": null,
   "id": "7e029577-cb72-45c7-afdf-773d3e7eb4fd",
   "metadata": {},
   "outputs": [],
   "source": []
  }
 ],
 "metadata": {
  "kernelspec": {
   "display_name": "Python 3 (ipykernel)",
   "language": "python",
   "name": "python3"
  },
  "language_info": {
   "codemirror_mode": {
    "name": "ipython",
    "version": 3
   },
   "file_extension": ".py",
   "mimetype": "text/x-python",
   "name": "python",
   "nbconvert_exporter": "python",
   "pygments_lexer": "ipython3",
   "version": "3.10.8"
  }
 },
 "nbformat": 4,
 "nbformat_minor": 5
}
