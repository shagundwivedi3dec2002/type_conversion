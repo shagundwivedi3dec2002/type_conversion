{
 "cells": [
  {
   "cell_type": "code",
   "execution_count": 1,
   "id": "7c2a8fb2-3794-4a26-b326-23de166fc13c",
   "metadata": {},
   "outputs": [
    {
     "name": "stdout",
     "output_type": "stream",
     "text": [
      "Integer:  42\n",
      "Floating point:  42.0\n"
     ]
    }
   ],
   "source": [
    "integer_number = 42\n",
    "floating_point_number = float(integer_number)\n",
    "\n",
    "print('Integer: ',integer_number)\n",
    "print('Floating point: ',floating_point_number)"
   ]
  },
  {
   "cell_type": "code",
   "execution_count": 2,
   "id": "11febe1d-8090-46cb-8ec0-5e720de3695c",
   "metadata": {},
   "outputs": [
    {
     "name": "stdout",
     "output_type": "stream",
     "text": [
      "Floating point:  42.0\n",
      "Integer:  42\n"
     ]
    }
   ],
   "source": [
    "floating_point_number= 42.0\n",
    "integer_number= int(integer_number)\n",
    "\n",
    "print('Floating point: ',floating_point_number)\n",
    "print('Integer: ',integer_number)"
   ]
  },
  {
   "cell_type": "code",
   "execution_count": 3,
   "id": "e04d60df-2456-4af3-9c6b-3a0dc7dfb53e",
   "metadata": {},
   "outputs": [
    {
     "name": "stdout",
     "output_type": "stream",
     "text": [
      "Integer:  42\n",
      "String:  42\n"
     ]
    }
   ],
   "source": [
    "integer_number = 42\n",
    "string=str(integer_number)\n",
    "\n",
    "print('Integer: ',integer_number)\n",
    "print('String: ',string)"
   ]
  },
  {
   "cell_type": "code",
   "execution_count": 5,
   "id": "9631e88d-0506-4480-83d9-3d48481482e2",
   "metadata": {},
   "outputs": [
    {
     "name": "stdout",
     "output_type": "stream",
     "text": [
      "List:  [42, 45.0, 'shagun', True]\n",
      "Tuple:  (42, 45.0, 'shagun', True)\n"
     ]
    }
   ],
   "source": [
    "list_name=[42,45.0,'shagun',True]\n",
    "Tuple_name=tuple(list_name)\n",
    "\n",
    "print('List: ',list_name)\n",
    "print('Tuple: ',Tuple_name)"
   ]
  },
  {
   "cell_type": "code",
   "execution_count": 6,
   "id": "a19a4eb5-2371-4154-8257-ace640cf4936",
   "metadata": {},
   "outputs": [
    {
     "name": "stdout",
     "output_type": "stream",
     "text": [
      "Decimal:  42\n",
      "Binary:  0b101010\n"
     ]
    }
   ],
   "source": [
    "decimal_number= 42\n",
    "binary_representation= bin(decimal_number)\n",
    "\n",
    "print('Decimal: ',decimal_number)\n",
    "print('Binary: ',binary_representation)"
   ]
  },
  {
   "cell_type": "code",
   "execution_count": 7,
   "id": "d1d00900-24b1-4851-a7a3-8a6d0a37ddab",
   "metadata": {},
   "outputs": [
    {
     "name": "stdout",
     "output_type": "stream",
     "text": [
      "Non-zero number:  42\n",
      "Boolean value:  True\n"
     ]
    }
   ],
   "source": [
    "non_zero_number = 42\n",
    "boolean_value = bool(non_zero_number)\n",
    "\n",
    "print('Non-zero number: ',non_zero_number)\n",
    "print('Boolean value: ',boolean_value)"
   ]
  },
  {
   "cell_type": "code",
   "execution_count": null,
   "id": "aa713849-f49b-45cd-9eeb-15428d95bff9",
   "metadata": {},
   "outputs": [],
   "source": []
  }
 ],
 "metadata": {
  "kernelspec": {
   "display_name": "Python 3 (ipykernel)",
   "language": "python",
   "name": "python3"
  },
  "language_info": {
   "codemirror_mode": {
    "name": "ipython",
    "version": 3
   },
   "file_extension": ".py",
   "mimetype": "text/x-python",
   "name": "python",
   "nbconvert_exporter": "python",
   "pygments_lexer": "ipython3",
   "version": "3.10.8"
  }
 },
 "nbformat": 4,
 "nbformat_minor": 5
}
