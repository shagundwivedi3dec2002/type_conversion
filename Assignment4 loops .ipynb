{
 "cells": [
  {
   "cell_type": "code",
   "execution_count": 5,
   "id": "9c99707e-f059-4a42-b103-57ed04b62d0a",
   "metadata": {},
   "outputs": [
    {
     "name": "stdout",
     "output_type": "stream",
     "text": [
      "1\n",
      "2\n",
      "3\n",
      "4\n",
      "5\n"
     ]
    }
   ],
   "source": [
    "counter=1\n",
    "while counter<= 5:\n",
    "    print(counter)\n",
    "    counter =counter + 1\n"
   ]
  },
  {
   "cell_type": "code",
   "execution_count": 6,
   "id": "29f61ef7-78c6-42d2-a65d-8c2b621d1025",
   "metadata": {},
   "outputs": [
    {
     "name": "stdout",
     "output_type": "stream",
     "text": [
      "The sum of numbers from 1 to 10 is: 55\n"
     ]
    }
   ],
   "source": [
    "counter = 1\n",
    "sum_result = 0\n",
    "\n",
    "while counter <= 10:\n",
    "    sum_result = sum_result + counter\n",
    "    counter = counter + 1\n",
    "    \n",
    "print(\"The sum of numbers from 1 to 10 is:\", sum_result)\n"
   ]
  },
  {
   "cell_type": "code",
   "execution_count": 8,
   "id": "1a939a07-8b61-4f7b-944c-acfd14231f24",
   "metadata": {},
   "outputs": [
    {
     "name": "stdin",
     "output_type": "stream",
     "text": [
      "enter your number 5\n"
     ]
    },
    {
     "data": {
      "text/plain": [
       "120"
      ]
     },
     "execution_count": 8,
     "metadata": {},
     "output_type": "execute_result"
    }
   ],
   "source": [
    "number=int(input('enter your number'))\n",
    "factorial=1\n",
    "while number>0:\n",
    "    factorial=factorial*number\n",
    "    number=number-1\n",
    "factorial"
   ]
  },
  {
   "cell_type": "code",
   "execution_count": 14,
   "id": "064711a1-c45f-43fe-a4d3-449ac31b04f9",
   "metadata": {},
   "outputs": [
    {
     "name": "stdout",
     "output_type": "stream",
     "text": [
      "The number of vowels in the string is: 7\n"
     ]
    }
   ],
   "source": [
    "\n",
    "input_string = \"My name is Shadab Alam\"\n",
    "input_string = input_string.lower()\n",
    "\n",
    "vowel_count = 0\n",
    "\n",
    "vowels = set(\"aeiou\")\n",
    "\n",
    "for i in input_string:\n",
    "    if i in vowels:\n",
    "        vowel_count =vowel_count + 1\n",
    "\n",
    "print(f\"The number of vowels in the string is: {vowel_count}\")\n"
   ]
  },
  {
   "cell_type": "code",
   "execution_count": 17,
   "id": "9f727316-33b7-42a1-bc1c-1bd1f2a906ae",
   "metadata": {},
   "outputs": [
    {
     "name": "stdout",
     "output_type": "stream",
     "text": [
      "* \n",
      "* * \n",
      "* * * \n",
      "* * * * \n",
      "* * * * * \n"
     ]
    }
   ],
   "source": [
    "num_rows = 5\n",
    "\n",
    "for i in range(num_rows):\n",
    "    for j in range(i + 1):\n",
    "        print(\"*\", end=\" \") \n",
    "    print()"
   ]
  },
  {
   "cell_type": "code",
   "execution_count": 18,
   "id": "b90af51f-bb63-4c0c-a243-719ef7a20f0f",
   "metadata": {},
   "outputs": [
    {
     "name": "stdin",
     "output_type": "stream",
     "text": [
      "enter your number 5\n"
     ]
    },
    {
     "name": "stdout",
     "output_type": "stream",
     "text": [
      "5 * 1 = 5\n",
      "5 * 2 = 10\n",
      "5 * 3 = 15\n",
      "5 * 4 = 20\n",
      "5 * 5 = 25\n",
      "5 * 6 = 30\n",
      "5 * 7 = 35\n",
      "5 * 8 = 40\n",
      "5 * 9 = 45\n",
      "5 * 10 = 50\n"
     ]
    }
   ],
   "source": [
    "n=int(input('enter your number'))\n",
    "i=1\n",
    "while i<=10:\n",
    "    result=n*i\n",
    "    print(n,'*',i,'=',result)\n",
    "    i=i+1"
   ]
  },
  {
   "cell_type": "code",
   "execution_count": null,
   "id": "442a6bee-8d75-41d7-a9fb-77c4440adcdb",
   "metadata": {},
   "outputs": [],
   "source": []
  }
 ],
 "metadata": {
  "kernelspec": {
   "display_name": "Python 3 (ipykernel)",
   "language": "python",
   "name": "python3"
  },
  "language_info": {
   "codemirror_mode": {
    "name": "ipython",
    "version": 3
   },
   "file_extension": ".py",
   "mimetype": "text/x-python",
   "name": "python",
   "nbconvert_exporter": "python",
   "pygments_lexer": "ipython3",
   "version": "3.10.8"
  }
 },
 "nbformat": 4,
 "nbformat_minor": 5
}
