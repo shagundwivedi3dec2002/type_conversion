{
 "cells": [
  {
   "cell_type": "code",
   "execution_count": 20,
   "id": "f05a099d-c3d0-4f08-af91-626365693287",
   "metadata": {},
   "outputs": [
    {
     "name": "stdin",
     "output_type": "stream",
     "text": [
      "Enter your Value -5\n"
     ]
    },
    {
     "name": "stdout",
     "output_type": "stream",
     "text": [
      "Negative number\n"
     ]
    }
   ],
   "source": [
    "# Q1.\n",
    "\n",
    "# if, else, and elif: These keywords are used for conditional statements. They allow you to control the flow of your program based on certain conditions\n",
    "\n",
    "x = float(input('Enter your Value'))\n",
    "\n",
    "if x > 0:\n",
    "    print(\"Positive number\")\n",
    "elif x == 0:\n",
    "    print(\"Zero\")\n",
    "else:\n",
    "    print(\"Negative number\")\n"
   ]
  },
  {
   "cell_type": "code",
   "execution_count": 21,
   "id": "2e266986-6c30-440b-ae2b-cfdb45d05803",
   "metadata": {},
   "outputs": [
    {
     "name": "stdout",
     "output_type": "stream",
     "text": [
      "apple\n",
      "banana\n",
      "orange\n"
     ]
    }
   ],
   "source": [
    "# for: Used for looping through a sequence (such as a list, tuple, or string) and executing a block of code for each element in the sequence.\n",
    "\n",
    "fruits = [\"apple\", \"banana\", \"orange\"]\n",
    "\n",
    "for i in fruits:\n",
    "    print(i)\n"
   ]
  },
  {
   "cell_type": "code",
   "execution_count": 26,
   "id": "856eca56-09c8-4b6a-ab0d-36de2dcfcf8c",
   "metadata": {},
   "outputs": [
    {
     "name": "stdout",
     "output_type": "stream",
     "text": [
      "0\n",
      "1\n",
      "2\n",
      "3\n",
      "4\n"
     ]
    }
   ],
   "source": [
    "# while: Used for creating a loop that continues executing a block of code as long as a specified condition is true.\n",
    "\n",
    "count = 0\n",
    "while count < 5:\n",
    "    print(count)\n",
    "    count = count + 1"
   ]
  },
  {
   "cell_type": "code",
   "execution_count": 29,
   "id": "9b677750-c2e7-4318-9dcf-8698797bbb53",
   "metadata": {},
   "outputs": [
    {
     "name": "stdout",
     "output_type": "stream",
     "text": [
      "Hello, Shadab!\n"
     ]
    }
   ],
   "source": [
    "# def: Used for defining a function in Python. Functions are blocks of reusable code that can be called with a specific set of inputs.\n",
    "\n",
    "def Greet(name):\n",
    "    print(\"Hello, \" + name + \"!\")\n",
    "Greet(\"Shadab\")\n"
   ]
  },
  {
   "cell_type": "code",
   "execution_count": 31,
   "id": "74a677c4-b075-4217-86fd-b098cf36d65e",
   "metadata": {},
   "outputs": [
    {
     "name": "stdout",
     "output_type": "stream",
     "text": [
      "8\n"
     ]
    }
   ],
   "source": [
    "# return: This keyword is used to exit a function and return a value. It allows a function to produce a result that can be used elsewhere in the code.\n",
    "\n",
    "def add_numbers(a, b):\n",
    "    return a + b\n",
    "\n",
    "result = add_numbers(3, 5)\n",
    "print(result)\n"
   ]
  },
  {
   "cell_type": "code",
   "execution_count": 39,
   "id": "325fb20b-d398-4e5f-8570-eb9401ac0d07",
   "metadata": {},
   "outputs": [
    {
     "name": "stdout",
     "output_type": "stream",
     "text": [
      "25\n",
      "Shadab\n",
      "0\n",
      "100.5\n",
      "True\n"
     ]
    }
   ],
   "source": [
    "# Rules for Defining Identifiers in Python\n",
    "# Identifiers in Python are user-defined names given to variables, functions, classes, modules, and other elements within your code. Choosing clear and meaningful names is essential for both readability and avoiding errors. Here's the breakdown of naming rules:\n",
    "\n",
    "# 1. Allowed Characters:\n",
    "\n",
    "# Letters (uppercase and lowercase): a, B, z\n",
    "# Digits: 0, 1, 9\n",
    "# Underscore: _\n",
    "# 2. First Character:\n",
    "\n",
    "# Must be a letter or underscore. Identifiers cannot begin with a digit.\n",
    "# 3. Reserved Words (Keywords):\n",
    "\n",
    "# Cannot be used as identifiers. These have special meanings in Python.\n",
    "# Example: if, else, for, while, def, class\n",
    "# 4. Case-Sensitivity:\n",
    "\n",
    "# Python is case-sensitive. name, Name, and NAME are considered different identifiers.\n",
    "# 5. Special Symbols:\n",
    "\n",
    "# Cannot be used except for the underscore _.\n",
    "# 6. Length:\n",
    "\n",
    "# No limit on the length of an identifier, but using excessively long names can hinder readability.\n",
    "\n",
    "\n",
    "\n",
    "variable_age = 25\n",
    "_name = \"Shadab\"\n",
    "counter123 = 0\n",
    "total_amount = 100.5\n",
    "is_valid = True\n",
    "\n",
    "print(variable_age)\n",
    "print(_name)\n",
    "print(counter123)\n",
    "print(total_amount)\n",
    "print(is_valid)"
   ]
  },
  {
   "cell_type": "code",
   "execution_count": 44,
   "id": "3b0b86c1-473a-46b0-b00f-740f6cb104cf",
   "metadata": {},
   "outputs": [
    {
     "name": "stdin",
     "output_type": "stream",
     "text": [
      "Enter the length:  10\n",
      "Enter the width:  5\n"
     ]
    },
    {
     "name": "stdout",
     "output_type": "stream",
     "text": [
      "The area of the rectangle is: 50.0\n"
     ]
    }
   ],
   "source": [
    "#Q3.\n",
    "\n",
    "# # Comments in Python are annotations within the code that are not executed by the interpreter. \n",
    "# They are added to provide explanations, clarifications, or documentation for the code. \n",
    "# Comments are useful for improving code readability, making it easier for others to understand the purpose and functionality of specific code segments.\n",
    "\n",
    "# In Python, there are two types of comments:\n",
    "\n",
    "# Single-line comments: These comments begin with the '#' symbol and extend to the end of the line.Single-line comments: These comments begin with the '#' symbol and extend to the end of the line.\n",
    "\n",
    "\"\"\"Multi-line comments (docstrings): While Python does not have a specific syntax for multi-line comments, \n",
    "you can use triple-quotes (''' or \" \" \") to create multi-line strings, \n",
    "which are often used as documentation strings or docstrings.\"\"\"\n",
    "\n",
    "# This is a simple program that calculates the area of a rectangle\n",
    "\n",
    "# Get the length and width from the user\n",
    "length = float(input(\"Enter the length: \"))\n",
    "width = float(input(\"Enter the width: \"))\n",
    "\n",
    "# Calculate the area\n",
    "area = length * width\n",
    "\n",
    "# Print the area\n",
    "print(\"The area of the rectangle is:\", area)"
   ]
  },
  {
   "cell_type": "code",
   "execution_count": 53,
   "id": "91ba27c2-a9c0-4b50-9050-8776352951fa",
   "metadata": {},
   "outputs": [
    {
     "name": "stdin",
     "output_type": "stream",
     "text": [
      "Enter Your Age:  18\n"
     ]
    },
    {
     "name": "stdout",
     "output_type": "stream",
     "text": [
      "Eligible to vote\n"
     ]
    }
   ],
   "source": [
    "#Q4.\n",
    "# In Python, proper indentation is not just a matter of style; it is a fundamental aspect of the language's syntax. Python uses indentation to define blocks of code, such as those within loops, conditionals, functions, and classes. Indentation is a way of visually representing the structure and hierarchy of the code.\n",
    "\n",
    "# The key reasons why proper indentation is important in Python are:\n",
    "\n",
    "# Readability: Indentation makes the code more readable. It visually indicates the structure of the code and helps developers understand the relationships between different blocks of code. Properly indented code is easier to follow and maintain.\n",
    "\n",
    "# Code Blocks: Python relies on indentation to define code blocks. Statements with the same level of indentation are considered part of the same block. This eliminates the need for explicit braces or keywords to denote block boundaries, as seen in some other programming languages.\n",
    "\n",
    "# Consistency: Consistent indentation is crucial for maintaining a clean and organized codebase. It helps avoid confusion and ensures that the code is structured in a predictable way.\n",
    "\n",
    "# Error Prevention: Incorrect indentation can lead to syntax errors or, more importantly, can change the logic of the code. For example, changing the indentation of a line might cause it to be executed in a different context. Proper indentation helps prevent unintentional errors.\n",
    "\n",
    "\n",
    "# Correct indentation:\n",
    "\n",
    "age= int(input('Enter Your Age: '))\n",
    "if age >= 18:\n",
    "    print(\"Eligible to vote\")\n",
    "else:\n",
    "    print(\"Not eligible to vote\")"
   ]
  },
  {
   "cell_type": "code",
   "execution_count": 54,
   "id": "47d2e65d-a645-4aa8-81ae-51eb49d32fbc",
   "metadata": {},
   "outputs": [
    {
     "ename": "IndentationError",
     "evalue": "expected an indented block after 'if' statement on line 2 (3038987211.py, line 3)",
     "output_type": "error",
     "traceback": [
      "\u001b[0;36m  Cell \u001b[0;32mIn[54], line 3\u001b[0;36m\u001b[0m\n\u001b[0;31m    print(\"Eligible to vote\")  # This line should be indented\u001b[0m\n\u001b[0m    ^\u001b[0m\n\u001b[0;31mIndentationError\u001b[0m\u001b[0;31m:\u001b[0m expected an indented block after 'if' statement on line 2\n"
     ]
    }
   ],
   "source": [
    "# Incorrect indentation (causes an error):\n",
    "if age >= 18:\n",
    "print(\"Eligible to vote\")  # This line should be indented\n",
    "else:\n",
    "    print(\"Not eligible to vote\")"
   ]
  },
  {
   "cell_type": "code",
   "execution_count": 58,
   "id": "991ebe72-a7ee-4d1d-be05-c1e8db91b154",
   "metadata": {},
   "outputs": [
    {
     "ename": "IndentationError",
     "evalue": "expected an indented block after 'for' statement on line 6 (3104808444.py, line 7)",
     "output_type": "error",
     "traceback": [
      "\u001b[0;36m  Cell \u001b[0;32mIn[58], line 7\u001b[0;36m\u001b[0m\n\u001b[0;31m    print(i)         # Incorrect indentation\u001b[0m\n\u001b[0m    ^\u001b[0m\n\u001b[0;31mIndentationError\u001b[0m\u001b[0;31m:\u001b[0m expected an indented block after 'for' statement on line 6\n"
     ]
    }
   ],
   "source": [
    "#Q5.\n",
    "\n",
    "\"\"\"In Python, indentation is not just a matter of style; it is a fundamental part of the language's syntax and semantics. \n",
    "Incorrect indentation can lead to various issues, and in most cases, it results in a syntax error.\"\"\"\n",
    "\n",
    "for i in range(1, 6):\n",
    "print(i)         # Incorrect indentation"
   ]
  },
  {
   "cell_type": "code",
   "execution_count": 61,
   "id": "4d1032b8-17c1-47db-8276-17b4c42c305a",
   "metadata": {},
   "outputs": [
    {
     "name": "stdout",
     "output_type": "stream",
     "text": [
      "15\n"
     ]
    }
   ],
   "source": [
    "#Q6.\n",
    "\n",
    "#Expression:\n",
    "\n",
    "# An expression is a piece of code that produces a value.\n",
    "# It can consist of variables, constants, operators, and function calls.\n",
    "# Expressions are evaluated to produce a result.\n",
    "# Examples of expressions include arithmetic expressions, function calls, and any combination of values and operators that results in a value\n",
    "\n",
    "# Examples of expressions\n",
    "x = 5\n",
    "y = 10\n",
    "sum_result = x + y  # Arithmetic expression\n",
    "length = len(\"Hello\")  # Function call\n",
    "print(sum_result)"
   ]
  },
  {
   "cell_type": "code",
   "execution_count": 62,
   "id": "931927af-fe59-4e6b-93e4-f669d12867e9",
   "metadata": {},
   "outputs": [
    {
     "name": "stdout",
     "output_type": "stream",
     "text": [
      "Positive number\n",
      "0\n",
      "1\n",
      "2\n",
      "3\n",
      "4\n"
     ]
    }
   ],
   "source": [
    "# Statement:\n",
    "\n",
    "# A statement is a complete line of code that performs an action.\n",
    "# Statements are often composed of expressions but can also include other elements like keywords or assignments.\n",
    "# Statements are executed by the Python interpreter to perform specific tasks.\n",
    "# Examples of statements include assignment statements, conditional statements (if, else), loop statements (for, while), and function definitions.\n",
    "\n",
    "# Examples of statements\n",
    "assignment_statement = x = 5  # Assignment statement\n",
    "if x > 0:  # Conditional statement\n",
    "    print(\"Positive number\")\n",
    "for i in range(5):  # Loop statement\n",
    "    print(i)\n"
   ]
  },
  {
   "cell_type": "code",
   "execution_count": null,
   "id": "aa6d7b30-93f9-4d53-9bcc-a8b2e8204f42",
   "metadata": {},
   "outputs": [],
   "source": []
  }
 ],
 "metadata": {
  "kernelspec": {
   "display_name": "Python 3 (ipykernel)",
   "language": "python",
   "name": "python3"
  },
  "language_info": {
   "codemirror_mode": {
    "name": "ipython",
    "version": 3
   },
   "file_extension": ".py",
   "mimetype": "text/x-python",
   "name": "python",
   "nbconvert_exporter": "python",
   "pygments_lexer": "ipython3",
   "version": "3.10.8"
  }
 },
 "nbformat": 4,
 "nbformat_minor": 5
}
